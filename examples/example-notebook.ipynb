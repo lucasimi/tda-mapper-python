{
 "cells": [
  {
   "cell_type": "code",
   "execution_count": 1,
   "id": "50604595",
   "metadata": {},
   "outputs": [],
   "source": [
    "import numpy as np\n",
    "from sklearn.cluster import DBSCAN\n",
    "\n",
    "from mapper.cover import CoverGraph\n",
    "from mapper.search import BallSearch\n",
    "from mapper.pipeline import MapperPipeline\n",
    "from mapper.plot import MapperPlot\n",
    "\n",
    "import matplotlib.pyplot as plt\n",
    "\n",
    "\n",
    "mp = MapperPipeline(\n",
    "    search_algo=BallSearch(\n",
    "        1.5,\n",
    "        metric=lambda x, y: np.linalg.norm(x - y)\n",
    "    ),\n",
    "    #clustering_algo=DBSCAN(eps=1.5, min_samples=2)\n",
    ")\n",
    "\n",
    "data = [np.random.rand(10) for _ in range(100)]\n",
    "g = mp.fit(data)\n",
    "mp = MapperPlot(g)"
   ]
  },
  {
   "cell_type": "code",
   "execution_count": 2,
   "id": "434ea1cf",
   "metadata": {},
   "outputs": [
    {
     "data": {
      "application/vnd.plotly.v1+json": {
       "config": {
        "plotlyServerURL": "https://plot.ly"
       },
       "data": [
        {
         "hoverinfo": "none",
         "line": {
          "color": "#777",
          "width": 0.75
         },
         "mode": "lines",
         "opacity": 0.85,
         "type": "scatter",
         "x": [
          -0.21493198969550675,
          -0.12549312330850027,
          null,
          -0.12549312330850027,
          -0.0057493253937950855,
          null,
          -0.0057493253937950855,
          0.11597349547886174,
          null,
          0.11597349547886174,
          0.2090043231684513,
          null,
          0.2090043231684513,
          0.25422439598784147,
          null,
          0.25422439598784147,
          0.23745260168620638,
          null,
          0.23745260168620638,
          0.1537280078894467,
          null,
          0.1537280078894467,
          0.024280573536547924,
          null,
          0.024280573536547924,
          -0.1346240980258191,
          null,
          -0.1346240980258191,
          -0.27843230973324185,
          null,
          -0.27843230973324185,
          -0.4044705735423583,
          null,
          -0.4044705735423583,
          -0.505809248918119,
          null,
          -0.505809248918119,
          -0.5707565346091515,
          null,
          -0.5707565346091515,
          -0.5343996356338105,
          null,
          -0.5343996356338105,
          -0.43353399152092337,
          null,
          -0.43353399152092337,
          -0.3056152430534633,
          null,
          -0.3056152430534633,
          -0.15800105847414359,
          null,
          -0.15800105847414359,
          0.006975547155805829,
          null,
          0.006975547155805829,
          0.1707013693061719,
          null,
          0.1707013693061719,
          0.3125254080513297,
          null,
          0.3125254080513297,
          0.41922377648132064,
          null,
          0.41922377648132064,
          0.4801350831670209,
          null,
          0.4801350831670209,
          0.48228094714113057,
          null,
          0.48228094714113057,
          0.42556221601818106,
          null,
          0.42556221601818106,
          0.32276085790926534,
          null,
          0.32276085790926534,
          0.19672398365111296,
          null,
          0.19672398365111296,
          0.07158390099508548,
          null,
          0.07158390099508548,
          -0.023969420117221935,
          null,
          -0.023969420117221935,
          -0.08326855078398208,
          null,
          -0.08326855078398208,
          -0.1157003616798909,
          null,
          -0.1157003616798909,
          -0.111093657750742,
          null,
          -0.111093657750742,
          -0.08094592990798528,
          null,
          -0.08094592990798528,
          -0.041886021873202416,
          null,
          -0.041886021873202416,
          -0.019520608540853416,
          null,
          -0.019520608540853416,
          -0.013882909075298643,
          null,
          -0.013882909075298643,
          -0.040210410289245505,
          null,
          -0.040210410289245505,
          -0.03186581086892196,
          null,
          -0.03186581086892196,
          -0.005074434177209959,
          null,
          -0.005074434177209959,
          0.030214235082118943,
          null,
          0.030214235082118943,
          0.0625323084517446,
          null,
          0.0625323084517446,
          0.09938420087539378,
          null,
          0.09938420087539378,
          0.12027975964480674,
          null,
          0.12027975964480674,
          0.12455614333687551,
          null,
          0.12455614333687551,
          0.1097346976037977,
          null,
          0.1097346976037977,
          0.07910232480480817,
          null,
          0.07910232480480817,
          0.03163603976329934,
          null,
          0.03163603976329934,
          -0.03655941994291363,
          null,
          -0.03655941994291363,
          -0.10967765584487262,
          null,
          -0.10967765584487262,
          -0.15510387442545104,
          null
         ],
         "y": [
          0.1888739588724643,
          0.13417940623006203,
          null,
          0.13417940623006203,
          0.06292800578358704,
          null,
          0.06292800578358704,
          -0.0298303937919056,
          null,
          -0.0298303937919056,
          -0.14885433778972795,
          null,
          -0.14885433778972795,
          -0.27840944544471885,
          null,
          -0.27840944544471885,
          -0.4017151684723852,
          null,
          -0.4017151684723852,
          -0.4920868582451262,
          null,
          -0.4920868582451262,
          -0.5330587403576933,
          null,
          -0.5330587403576933,
          -0.5410776354914888,
          null,
          -0.5410776354914888,
          -0.5179713211212083,
          null,
          -0.5179713211212083,
          -0.4705566838511528,
          null,
          -0.4705566838511528,
          -0.40418903232801395,
          null,
          -0.40418903232801395,
          -0.33043165227830423,
          null,
          -0.33043165227830423,
          -0.26341090899377095,
          null,
          -0.26341090899377095,
          -0.22672581078885812,
          null,
          -0.22672581078885812,
          -0.20134317707808147,
          null,
          -0.20134317707808147,
          -0.17439600720300177,
          null,
          -0.17439600720300177,
          -0.13686701158772235,
          null,
          -0.13686701158772235,
          -0.08925118920559331,
          null,
          -0.08925118920559331,
          -0.021124131239543133,
          null,
          -0.021124131239543133,
          0.07036336436618913,
          null,
          0.07036336436618913,
          0.1817239742722603,
          null,
          0.1817239742722603,
          0.2983066738646671,
          null,
          0.2983066738646671,
          0.3964148308227953,
          null,
          0.3964148308227953,
          0.4516115682137739,
          null,
          0.4516115682137739,
          0.45495896928860474,
          null,
          0.45495896928860474,
          0.40688745457474107,
          null,
          0.40688745457474107,
          0.31609807312724786,
          null,
          0.31609807312724786,
          0.19016377285750066,
          null,
          0.19016377285750066,
          0.039443464517586235,
          null,
          0.039443464517586235,
          -0.11376395106597673,
          null,
          -0.11376395106597673,
          -0.27111351659873756,
          null,
          -0.27111351659873756,
          -0.41754961367153715,
          null,
          -0.41754961367153715,
          -0.5558357346353197,
          null,
          -0.5558357346353197,
          -0.659322386426725,
          null,
          -0.659322386426725,
          -0.6090636647511296,
          null,
          -0.6090636647511296,
          -0.48964935910802737,
          null,
          -0.48964935910802737,
          -0.35230347411881563,
          null,
          -0.35230347411881563,
          -0.20374670369046213,
          null,
          -0.20374670369046213,
          -0.03851695005893068,
          null,
          -0.03851695005893068,
          0.1255054565777644,
          null,
          0.1255054565777644,
          0.2820684677715915,
          null,
          0.2820684677715915,
          0.43513113304242473,
          null,
          0.43513113304242473,
          0.5841865281570255,
          null,
          0.5841865281570255,
          0.7147715916054931,
          null,
          0.7147715916054931,
          0.8193357311753564,
          null,
          0.8193357311753564,
          0.885738104619801,
          null,
          0.885738104619801,
          0.933474329653023,
          null,
          0.933474329653023,
          1,
          null
         ]
        },
        {
         "hoverinfo": "text",
         "marker": {
          "cmax": 0.5993670990807084,
          "cmin": 0.36622236926316754,
          "color": [
           0.4142480532178743,
           0.5136993775527152,
           0.501483204823487,
           0.46866453256337653,
           0.46749177370865436,
           0.4402217078710998,
           0.5192153160724693,
           0.5385631010687171,
           0.4768413016529486,
           0.47078875072786786,
           0.46489121414465656,
           0.5993670990807084,
           0.53108286035649,
           0.5965638195213898,
           0.4586699142863952,
           0.4614496992515425,
           0.4332150868118607,
           0.4621438988961739,
           0.36622236926316754,
           0.5046711682132645,
           0.5184312842887039,
           0.4977050415341728,
           0.4790985583563375,
           0.5203656452789175,
           0.5486462965295753,
           0.5528413487010971,
           0.4523454790951202,
           0.4525263356088075,
           0.4755785186824029,
           0.5341965521882437,
           0.5181555417619854,
           0.4863837738678953,
           0.4316207777125633,
           0.41076577711456796,
           0.41797665147227386,
           0.468084580670971,
           0.5102965265423729,
           0.5161978839109345,
           0.43260476292767536,
           0.4834892596317141,
           0.5378955447588226,
           0.5420515545720953,
           0.48565867529455775,
           0.5087601343336823,
           0.47372967518206427,
           0.4032219001762268,
           0.41244293478379623,
           0.4546401314265858,
           0.4455210807166258,
           0.5044481289885394
          ],
          "colorbar": {
           "borderwidth": 0,
           "orientation": "v",
           "outlinewidth": 0,
           "thickness": 0.025,
           "thicknessmode": "fraction",
           "title": {
            "side": "right",
            "text": "mean lens"
           },
           "xanchor": "left",
           "ypad": 0
          },
          "colorscale": [
           [
            0,
            "#440154"
           ],
           [
            0.1111111111111111,
            "#482878"
           ],
           [
            0.2222222222222222,
            "#3e4989"
           ],
           [
            0.3333333333333333,
            "#31688e"
           ],
           [
            0.4444444444444444,
            "#26828e"
           ],
           [
            0.5555555555555556,
            "#1f9e89"
           ],
           [
            0.6666666666666666,
            "#35b779"
           ],
           [
            0.7777777777777778,
            "#6ece58"
           ],
           [
            0.8888888888888888,
            "#b5de2b"
           ],
           [
            1,
            "#fde725"
           ]
          ],
          "line": {
           "color": "#777",
           "width": 0.7
          },
          "opacity": 0.85,
          "reversescale": false,
          "showscale": true,
          "size": [
           20.41241452319315,
           25,
           25,
           25,
           25,
           25,
           25,
           25,
           25,
           25,
           25,
           25,
           25,
           25,
           25,
           25,
           25,
           25,
           25,
           25,
           25,
           25,
           25,
           25,
           25,
           25,
           25,
           25,
           25,
           25,
           25,
           25,
           25,
           25,
           25,
           25,
           25,
           25,
           25,
           25,
           25,
           25,
           25,
           25,
           25,
           25,
           25,
           25,
           25,
           25
          ]
         },
         "mode": "markers",
         "opacity": 1,
         "text": [
          "size: 2.00e+00, color: 4.14e-01",
          "size: 3.00e+00, color: 5.14e-01",
          "size: 3.00e+00, color: 5.01e-01",
          "size: 3.00e+00, color: 4.69e-01",
          "size: 3.00e+00, color: 4.67e-01",
          "size: 3.00e+00, color: 4.40e-01",
          "size: 3.00e+00, color: 5.19e-01",
          "size: 3.00e+00, color: 5.39e-01",
          "size: 3.00e+00, color: 4.77e-01",
          "size: 3.00e+00, color: 4.71e-01",
          "size: 3.00e+00, color: 4.65e-01",
          "size: 3.00e+00, color: 5.99e-01",
          "size: 3.00e+00, color: 5.31e-01",
          "size: 3.00e+00, color: 5.97e-01",
          "size: 3.00e+00, color: 4.59e-01",
          "size: 3.00e+00, color: 4.61e-01",
          "size: 3.00e+00, color: 4.33e-01",
          "size: 3.00e+00, color: 4.62e-01",
          "size: 3.00e+00, color: 3.66e-01",
          "size: 3.00e+00, color: 5.05e-01",
          "size: 3.00e+00, color: 5.18e-01",
          "size: 3.00e+00, color: 4.98e-01",
          "size: 3.00e+00, color: 4.79e-01",
          "size: 3.00e+00, color: 5.20e-01",
          "size: 3.00e+00, color: 5.49e-01",
          "size: 3.00e+00, color: 5.53e-01",
          "size: 3.00e+00, color: 4.52e-01",
          "size: 3.00e+00, color: 4.53e-01",
          "size: 3.00e+00, color: 4.76e-01",
          "size: 3.00e+00, color: 5.34e-01",
          "size: 3.00e+00, color: 5.18e-01",
          "size: 3.00e+00, color: 4.86e-01",
          "size: 3.00e+00, color: 4.32e-01",
          "size: 3.00e+00, color: 4.11e-01",
          "size: 3.00e+00, color: 4.18e-01",
          "size: 3.00e+00, color: 4.68e-01",
          "size: 3.00e+00, color: 5.10e-01",
          "size: 3.00e+00, color: 5.16e-01",
          "size: 3.00e+00, color: 4.33e-01",
          "size: 3.00e+00, color: 4.83e-01",
          "size: 3.00e+00, color: 5.38e-01",
          "size: 3.00e+00, color: 5.42e-01",
          "size: 3.00e+00, color: 4.86e-01",
          "size: 3.00e+00, color: 5.09e-01",
          "size: 3.00e+00, color: 4.74e-01",
          "size: 3.00e+00, color: 4.03e-01",
          "size: 3.00e+00, color: 4.12e-01",
          "size: 3.00e+00, color: 4.55e-01",
          "size: 3.00e+00, color: 4.46e-01",
          "size: 3.00e+00, color: 5.04e-01"
         ],
         "type": "scatter",
         "x": [
          -0.21493198969550675,
          -0.12549312330850027,
          -0.0057493253937950855,
          0.11597349547886174,
          0.2090043231684513,
          0.25422439598784147,
          0.23745260168620638,
          0.1537280078894467,
          0.024280573536547924,
          -0.1346240980258191,
          -0.27843230973324185,
          -0.4044705735423583,
          -0.505809248918119,
          -0.5707565346091515,
          -0.5343996356338105,
          -0.43353399152092337,
          -0.3056152430534633,
          -0.15800105847414359,
          0.006975547155805829,
          0.1707013693061719,
          0.3125254080513297,
          0.41922377648132064,
          0.4801350831670209,
          0.48228094714113057,
          0.42556221601818106,
          0.32276085790926534,
          0.19672398365111296,
          0.07158390099508548,
          -0.023969420117221935,
          -0.08326855078398208,
          -0.1157003616798909,
          -0.111093657750742,
          -0.08094592990798528,
          -0.041886021873202416,
          -0.019520608540853416,
          -0.013882909075298643,
          -0.040210410289245505,
          -0.03186581086892196,
          -0.005074434177209959,
          0.030214235082118943,
          0.0625323084517446,
          0.09938420087539378,
          0.12027975964480674,
          0.12455614333687551,
          0.1097346976037977,
          0.07910232480480817,
          0.03163603976329934,
          -0.03655941994291363,
          -0.10967765584487262,
          -0.15510387442545104
         ],
         "y": [
          0.1888739588724643,
          0.13417940623006203,
          0.06292800578358704,
          -0.0298303937919056,
          -0.14885433778972795,
          -0.27840944544471885,
          -0.4017151684723852,
          -0.4920868582451262,
          -0.5330587403576933,
          -0.5410776354914888,
          -0.5179713211212083,
          -0.4705566838511528,
          -0.40418903232801395,
          -0.33043165227830423,
          -0.26341090899377095,
          -0.22672581078885812,
          -0.20134317707808147,
          -0.17439600720300177,
          -0.13686701158772235,
          -0.08925118920559331,
          -0.021124131239543133,
          0.07036336436618913,
          0.1817239742722603,
          0.2983066738646671,
          0.3964148308227953,
          0.4516115682137739,
          0.45495896928860474,
          0.40688745457474107,
          0.31609807312724786,
          0.19016377285750066,
          0.039443464517586235,
          -0.11376395106597673,
          -0.27111351659873756,
          -0.41754961367153715,
          -0.5558357346353197,
          -0.659322386426725,
          -0.6090636647511296,
          -0.48964935910802737,
          -0.35230347411881563,
          -0.20374670369046213,
          -0.03851695005893068,
          0.1255054565777644,
          0.2820684677715915,
          0.43513113304242473,
          0.5841865281570255,
          0.7147715916054931,
          0.8193357311753564,
          0.885738104619801,
          0.933474329653023,
          1
         ]
        }
       ],
       "layout": {
        "annotations": [
         {
          "showarrow": false,
          "text": "",
          "x": 0,
          "xref": "paper",
          "y": 0,
          "yref": "paper"
         }
        ],
        "autosize": false,
        "height": 512,
        "hovermode": "closest",
        "margin": {
         "b": 0,
         "l": 0,
         "r": 0,
         "t": 0
        },
        "plot_bgcolor": "rgba(0, 0, 0, 0)",
        "scene": {
         "xaxis": {
          "showbackground": false,
          "showgrid": false,
          "showline": false,
          "showticklabels": false,
          "title": {
           "text": "mean lens"
          },
          "zeroline": false
         },
         "yaxis": {
          "showbackground": false,
          "showgrid": false,
          "showline": false,
          "showticklabels": false,
          "title": {
           "text": "mean lens"
          },
          "zeroline": false
         }
        },
        "showlegend": false,
        "template": {
         "data": {
          "bar": [
           {
            "error_x": {
             "color": "#2a3f5f"
            },
            "error_y": {
             "color": "#2a3f5f"
            },
            "marker": {
             "line": {
              "color": "#E5ECF6",
              "width": 0.5
             },
             "pattern": {
              "fillmode": "overlay",
              "size": 10,
              "solidity": 0.2
             }
            },
            "type": "bar"
           }
          ],
          "barpolar": [
           {
            "marker": {
             "line": {
              "color": "#E5ECF6",
              "width": 0.5
             },
             "pattern": {
              "fillmode": "overlay",
              "size": 10,
              "solidity": 0.2
             }
            },
            "type": "barpolar"
           }
          ],
          "carpet": [
           {
            "aaxis": {
             "endlinecolor": "#2a3f5f",
             "gridcolor": "white",
             "linecolor": "white",
             "minorgridcolor": "white",
             "startlinecolor": "#2a3f5f"
            },
            "baxis": {
             "endlinecolor": "#2a3f5f",
             "gridcolor": "white",
             "linecolor": "white",
             "minorgridcolor": "white",
             "startlinecolor": "#2a3f5f"
            },
            "type": "carpet"
           }
          ],
          "choropleth": [
           {
            "colorbar": {
             "outlinewidth": 0,
             "ticks": ""
            },
            "type": "choropleth"
           }
          ],
          "contour": [
           {
            "colorbar": {
             "outlinewidth": 0,
             "ticks": ""
            },
            "colorscale": [
             [
              0,
              "#0d0887"
             ],
             [
              0.1111111111111111,
              "#46039f"
             ],
             [
              0.2222222222222222,
              "#7201a8"
             ],
             [
              0.3333333333333333,
              "#9c179e"
             ],
             [
              0.4444444444444444,
              "#bd3786"
             ],
             [
              0.5555555555555556,
              "#d8576b"
             ],
             [
              0.6666666666666666,
              "#ed7953"
             ],
             [
              0.7777777777777778,
              "#fb9f3a"
             ],
             [
              0.8888888888888888,
              "#fdca26"
             ],
             [
              1,
              "#f0f921"
             ]
            ],
            "type": "contour"
           }
          ],
          "contourcarpet": [
           {
            "colorbar": {
             "outlinewidth": 0,
             "ticks": ""
            },
            "type": "contourcarpet"
           }
          ],
          "heatmap": [
           {
            "colorbar": {
             "outlinewidth": 0,
             "ticks": ""
            },
            "colorscale": [
             [
              0,
              "#0d0887"
             ],
             [
              0.1111111111111111,
              "#46039f"
             ],
             [
              0.2222222222222222,
              "#7201a8"
             ],
             [
              0.3333333333333333,
              "#9c179e"
             ],
             [
              0.4444444444444444,
              "#bd3786"
             ],
             [
              0.5555555555555556,
              "#d8576b"
             ],
             [
              0.6666666666666666,
              "#ed7953"
             ],
             [
              0.7777777777777778,
              "#fb9f3a"
             ],
             [
              0.8888888888888888,
              "#fdca26"
             ],
             [
              1,
              "#f0f921"
             ]
            ],
            "type": "heatmap"
           }
          ],
          "heatmapgl": [
           {
            "colorbar": {
             "outlinewidth": 0,
             "ticks": ""
            },
            "colorscale": [
             [
              0,
              "#0d0887"
             ],
             [
              0.1111111111111111,
              "#46039f"
             ],
             [
              0.2222222222222222,
              "#7201a8"
             ],
             [
              0.3333333333333333,
              "#9c179e"
             ],
             [
              0.4444444444444444,
              "#bd3786"
             ],
             [
              0.5555555555555556,
              "#d8576b"
             ],
             [
              0.6666666666666666,
              "#ed7953"
             ],
             [
              0.7777777777777778,
              "#fb9f3a"
             ],
             [
              0.8888888888888888,
              "#fdca26"
             ],
             [
              1,
              "#f0f921"
             ]
            ],
            "type": "heatmapgl"
           }
          ],
          "histogram": [
           {
            "marker": {
             "pattern": {
              "fillmode": "overlay",
              "size": 10,
              "solidity": 0.2
             }
            },
            "type": "histogram"
           }
          ],
          "histogram2d": [
           {
            "colorbar": {
             "outlinewidth": 0,
             "ticks": ""
            },
            "colorscale": [
             [
              0,
              "#0d0887"
             ],
             [
              0.1111111111111111,
              "#46039f"
             ],
             [
              0.2222222222222222,
              "#7201a8"
             ],
             [
              0.3333333333333333,
              "#9c179e"
             ],
             [
              0.4444444444444444,
              "#bd3786"
             ],
             [
              0.5555555555555556,
              "#d8576b"
             ],
             [
              0.6666666666666666,
              "#ed7953"
             ],
             [
              0.7777777777777778,
              "#fb9f3a"
             ],
             [
              0.8888888888888888,
              "#fdca26"
             ],
             [
              1,
              "#f0f921"
             ]
            ],
            "type": "histogram2d"
           }
          ],
          "histogram2dcontour": [
           {
            "colorbar": {
             "outlinewidth": 0,
             "ticks": ""
            },
            "colorscale": [
             [
              0,
              "#0d0887"
             ],
             [
              0.1111111111111111,
              "#46039f"
             ],
             [
              0.2222222222222222,
              "#7201a8"
             ],
             [
              0.3333333333333333,
              "#9c179e"
             ],
             [
              0.4444444444444444,
              "#bd3786"
             ],
             [
              0.5555555555555556,
              "#d8576b"
             ],
             [
              0.6666666666666666,
              "#ed7953"
             ],
             [
              0.7777777777777778,
              "#fb9f3a"
             ],
             [
              0.8888888888888888,
              "#fdca26"
             ],
             [
              1,
              "#f0f921"
             ]
            ],
            "type": "histogram2dcontour"
           }
          ],
          "mesh3d": [
           {
            "colorbar": {
             "outlinewidth": 0,
             "ticks": ""
            },
            "type": "mesh3d"
           }
          ],
          "parcoords": [
           {
            "line": {
             "colorbar": {
              "outlinewidth": 0,
              "ticks": ""
             }
            },
            "type": "parcoords"
           }
          ],
          "pie": [
           {
            "automargin": true,
            "type": "pie"
           }
          ],
          "scatter": [
           {
            "marker": {
             "colorbar": {
              "outlinewidth": 0,
              "ticks": ""
             }
            },
            "type": "scatter"
           }
          ],
          "scatter3d": [
           {
            "line": {
             "colorbar": {
              "outlinewidth": 0,
              "ticks": ""
             }
            },
            "marker": {
             "colorbar": {
              "outlinewidth": 0,
              "ticks": ""
             }
            },
            "type": "scatter3d"
           }
          ],
          "scattercarpet": [
           {
            "marker": {
             "colorbar": {
              "outlinewidth": 0,
              "ticks": ""
             }
            },
            "type": "scattercarpet"
           }
          ],
          "scattergeo": [
           {
            "marker": {
             "colorbar": {
              "outlinewidth": 0,
              "ticks": ""
             }
            },
            "type": "scattergeo"
           }
          ],
          "scattergl": [
           {
            "marker": {
             "colorbar": {
              "outlinewidth": 0,
              "ticks": ""
             }
            },
            "type": "scattergl"
           }
          ],
          "scattermapbox": [
           {
            "marker": {
             "colorbar": {
              "outlinewidth": 0,
              "ticks": ""
             }
            },
            "type": "scattermapbox"
           }
          ],
          "scatterpolar": [
           {
            "marker": {
             "colorbar": {
              "outlinewidth": 0,
              "ticks": ""
             }
            },
            "type": "scatterpolar"
           }
          ],
          "scatterpolargl": [
           {
            "marker": {
             "colorbar": {
              "outlinewidth": 0,
              "ticks": ""
             }
            },
            "type": "scatterpolargl"
           }
          ],
          "scatterternary": [
           {
            "marker": {
             "colorbar": {
              "outlinewidth": 0,
              "ticks": ""
             }
            },
            "type": "scatterternary"
           }
          ],
          "surface": [
           {
            "colorbar": {
             "outlinewidth": 0,
             "ticks": ""
            },
            "colorscale": [
             [
              0,
              "#0d0887"
             ],
             [
              0.1111111111111111,
              "#46039f"
             ],
             [
              0.2222222222222222,
              "#7201a8"
             ],
             [
              0.3333333333333333,
              "#9c179e"
             ],
             [
              0.4444444444444444,
              "#bd3786"
             ],
             [
              0.5555555555555556,
              "#d8576b"
             ],
             [
              0.6666666666666666,
              "#ed7953"
             ],
             [
              0.7777777777777778,
              "#fb9f3a"
             ],
             [
              0.8888888888888888,
              "#fdca26"
             ],
             [
              1,
              "#f0f921"
             ]
            ],
            "type": "surface"
           }
          ],
          "table": [
           {
            "cells": {
             "fill": {
              "color": "#EBF0F8"
             },
             "line": {
              "color": "white"
             }
            },
            "header": {
             "fill": {
              "color": "#C8D4E3"
             },
             "line": {
              "color": "white"
             }
            },
            "type": "table"
           }
          ]
         },
         "layout": {
          "annotationdefaults": {
           "arrowcolor": "#2a3f5f",
           "arrowhead": 0,
           "arrowwidth": 1
          },
          "autotypenumbers": "strict",
          "coloraxis": {
           "colorbar": {
            "outlinewidth": 0,
            "ticks": ""
           }
          },
          "colorscale": {
           "diverging": [
            [
             0,
             "#8e0152"
            ],
            [
             0.1,
             "#c51b7d"
            ],
            [
             0.2,
             "#de77ae"
            ],
            [
             0.3,
             "#f1b6da"
            ],
            [
             0.4,
             "#fde0ef"
            ],
            [
             0.5,
             "#f7f7f7"
            ],
            [
             0.6,
             "#e6f5d0"
            ],
            [
             0.7,
             "#b8e186"
            ],
            [
             0.8,
             "#7fbc41"
            ],
            [
             0.9,
             "#4d9221"
            ],
            [
             1,
             "#276419"
            ]
           ],
           "sequential": [
            [
             0,
             "#0d0887"
            ],
            [
             0.1111111111111111,
             "#46039f"
            ],
            [
             0.2222222222222222,
             "#7201a8"
            ],
            [
             0.3333333333333333,
             "#9c179e"
            ],
            [
             0.4444444444444444,
             "#bd3786"
            ],
            [
             0.5555555555555556,
             "#d8576b"
            ],
            [
             0.6666666666666666,
             "#ed7953"
            ],
            [
             0.7777777777777778,
             "#fb9f3a"
            ],
            [
             0.8888888888888888,
             "#fdca26"
            ],
            [
             1,
             "#f0f921"
            ]
           ],
           "sequentialminus": [
            [
             0,
             "#0d0887"
            ],
            [
             0.1111111111111111,
             "#46039f"
            ],
            [
             0.2222222222222222,
             "#7201a8"
            ],
            [
             0.3333333333333333,
             "#9c179e"
            ],
            [
             0.4444444444444444,
             "#bd3786"
            ],
            [
             0.5555555555555556,
             "#d8576b"
            ],
            [
             0.6666666666666666,
             "#ed7953"
            ],
            [
             0.7777777777777778,
             "#fb9f3a"
            ],
            [
             0.8888888888888888,
             "#fdca26"
            ],
            [
             1,
             "#f0f921"
            ]
           ]
          },
          "colorway": [
           "#636efa",
           "#EF553B",
           "#00cc96",
           "#ab63fa",
           "#FFA15A",
           "#19d3f3",
           "#FF6692",
           "#B6E880",
           "#FF97FF",
           "#FECB52"
          ],
          "font": {
           "color": "#2a3f5f"
          },
          "geo": {
           "bgcolor": "white",
           "lakecolor": "white",
           "landcolor": "#E5ECF6",
           "showlakes": true,
           "showland": true,
           "subunitcolor": "white"
          },
          "hoverlabel": {
           "align": "left"
          },
          "hovermode": "closest",
          "mapbox": {
           "style": "light"
          },
          "paper_bgcolor": "white",
          "plot_bgcolor": "#E5ECF6",
          "polar": {
           "angularaxis": {
            "gridcolor": "white",
            "linecolor": "white",
            "ticks": ""
           },
           "bgcolor": "#E5ECF6",
           "radialaxis": {
            "gridcolor": "white",
            "linecolor": "white",
            "ticks": ""
           }
          },
          "scene": {
           "xaxis": {
            "backgroundcolor": "#E5ECF6",
            "gridcolor": "white",
            "gridwidth": 2,
            "linecolor": "white",
            "showbackground": true,
            "ticks": "",
            "zerolinecolor": "white"
           },
           "yaxis": {
            "backgroundcolor": "#E5ECF6",
            "gridcolor": "white",
            "gridwidth": 2,
            "linecolor": "white",
            "showbackground": true,
            "ticks": "",
            "zerolinecolor": "white"
           },
           "zaxis": {
            "backgroundcolor": "#E5ECF6",
            "gridcolor": "white",
            "gridwidth": 2,
            "linecolor": "white",
            "showbackground": true,
            "ticks": "",
            "zerolinecolor": "white"
           }
          },
          "shapedefaults": {
           "line": {
            "color": "#2a3f5f"
           }
          },
          "ternary": {
           "aaxis": {
            "gridcolor": "white",
            "linecolor": "white",
            "ticks": ""
           },
           "baxis": {
            "gridcolor": "white",
            "linecolor": "white",
            "ticks": ""
           },
           "bgcolor": "#E5ECF6",
           "caxis": {
            "gridcolor": "white",
            "linecolor": "white",
            "ticks": ""
           }
          },
          "title": {
           "x": 0.05
          },
          "xaxis": {
           "automargin": true,
           "gridcolor": "white",
           "linecolor": "white",
           "ticks": "",
           "title": {
            "standoff": 15
           },
           "zerolinecolor": "white",
           "zerolinewidth": 2
          },
          "yaxis": {
           "automargin": true,
           "gridcolor": "white",
           "linecolor": "white",
           "ticks": "",
           "title": {
            "standoff": 15
           },
           "zerolinecolor": "white",
           "zerolinewidth": 2
          }
         }
        },
        "width": 512,
        "xaxis": {
         "showgrid": false,
         "showticklabels": false,
         "zeroline": false
        },
        "yaxis": {
         "showgrid": false,
         "showticklabels": false,
         "zeroline": false
        }
       }
      }
     },
     "metadata": {},
     "output_type": "display_data"
    }
   ],
   "source": [
    "mp.colorize(data)\n",
    "fig = mp.plot('plotly', 512, 512, 'mean lens')\n",
    "fig.show()"
   ]
  },
  {
   "cell_type": "code",
   "execution_count": 3,
   "id": "f489f1f3",
   "metadata": {},
   "outputs": [
    {
     "data": {
      "image/png": "[encoded data removed]",
      "text/plain": [
       "<Figure size 512x512 with 2 Axes>"
      ]
     },
     "metadata": {
      "needs_background": "light"
     },
     "output_type": "display_data"
    }
   ],
   "source": [
    "%matplotlib inline\n",
    "mp.plot('matplotlib', 512, 512, 'mean lens')\n",
    "plt.show()"
   ]
  },
  {
   "cell_type": "code",
   "execution_count": null,
   "id": "26ba8077",
   "metadata": {},
   "outputs": [],
   "source": []
  }
 ],
 "metadata": {
  "kernelspec": {
   "display_name": "Python 3 (ipykernel)",
   "language": "python",
   "name": "python3"
  },
  "language_info": {
   "codemirror_mode": {
    "name": "ipython",
    "version": 3
   },
   "file_extension": ".py",
   "mimetype": "text/x-python",
   "name": "python",
   "nbconvert_exporter": "python",
   "pygments_lexer": "ipython3",
   "version": "3.10.4"
  }
 },
 "nbformat": 4,
 "nbformat_minor": 5
}
