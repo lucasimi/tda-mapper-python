{
 "cells": [
  {
   "cell_type": "code",
   "execution_count": 10,
   "id": "50604595",
   "metadata": {},
   "outputs": [],
   "source": [
    "import numpy as np\n",
    "from sklearn.cluster import DBSCAN\n",
    "\n",
    "from mapper.cover import SearchCover\n",
    "from mapper.search import BallSearch\n",
    "from mapper.pipeline import MapperPipeline\n",
    "\n",
    "\n",
    "mp = MapperPipeline(\n",
    "    cover_algo=SearchCover(\n",
    "        search_algo=BallSearch(1.5), \n",
    "        metric=lambda x, y: np.linalg.norm(x - y), \n",
    "        lens=lambda x: x),\n",
    "    clustering_algo=DBSCAN(eps=1.5, min_samples=2)\n",
    ")\n",
    "\n",
    "data = [np.random.rand(10) for _ in range(100)]\n",
    "g = mp.fit(data)\n"
   ]
  },
  {
   "cell_type": "code",
   "execution_count": 11,
   "id": "434ea1cf",
   "metadata": {},
   "outputs": [
    {
     "data": {
      "application/vnd.plotly.v1+json": {
       "config": {
        "plotlyServerURL": "https://plot.ly"
       },
       "data": [
        {
         "hoverinfo": "none",
         "line": {
          "color": "rgba(0.5, 0.5, 0.5, 0.5)",
          "width": 1
         },
         "mode": "lines",
         "opacity": 0.75,
         "type": "scatter",
         "x": [
          0.9429499932616188,
          -0.7891008143072581,
          null,
          0.9429499932616188,
          -0.1538491789543608,
          null,
          -0.7891008143072581,
          -0.1538491789543608,
          null
         ],
         "y": [
          0.3667627026741449,
          0.6332372973258542,
          null,
          0.3667627026741449,
          -1,
          null,
          0.6332372973258542,
          -1,
          null
         ]
        },
        {
         "hoverinfo": "text",
         "marker": {
          "cmax": 0.7657295452943528,
          "cmin": 0.32335800703792505,
          "color": [
           0.541488051261198,
           0.4939372968242973,
           0.5077918091914692
          ],
          "colorbar": {
           "thickness": 12,
           "title": {
            "side": "right",
            "text": ""
           },
           "xanchor": "left",
           "xpad": 0
          },
          "colorscale": [
           [
            0,
            "#440154"
           ],
           [
            0.1111111111111111,
            "#482878"
           ],
           [
            0.2222222222222222,
            "#3e4989"
           ],
           [
            0.3333333333333333,
            "#31688e"
           ],
           [
            0.4444444444444444,
            "#26828e"
           ],
           [
            0.5555555555555556,
            "#1f9e89"
           ],
           [
            0.6666666666666666,
            "#35b779"
           ],
           [
            0.7777777777777778,
            "#6ece58"
           ],
           [
            0.8888888888888888,
            "#b5de2b"
           ],
           [
            1,
            "#fde725"
           ]
          ],
          "line": {
           "color": "rgba(0.25, 0.25, 0.25, 1.0)",
           "width": 1
          },
          "opacity": 0.85,
          "reversescale": true,
          "showscale": true,
          "size": [
           28.37715908780752,
           30,
           26.207672641101844
          ]
         },
         "mode": "markers",
         "opacity": 1,
         "text": [
          "size: 68, color: 0.54, cc: 1",
          "size: 76, color: 0.49, cc: 1",
          "size: 58, color: 0.51, cc: 1"
         ],
         "type": "scatter",
         "x": [
          0.9429499932616188,
          -0.7891008143072581,
          -0.1538491789543608
         ],
         "y": [
          0.3667627026741449,
          0.6332372973258542,
          -1
         ]
        }
       ],
       "layout": {
        "annotations": [
         {
          "showarrow": false,
          "text": "",
          "x": 0,
          "xref": "paper",
          "y": 0,
          "yref": "paper"
         }
        ],
        "autosize": false,
        "height": 512,
        "hovermode": "closest",
        "margin": {
         "b": 0,
         "l": 0,
         "r": 0,
         "t": 0
        },
        "plot_bgcolor": "rgba(0, 0, 0, 0)",
        "scene": {
         "xaxis": {
          "showbackground": false,
          "showgrid": false,
          "showline": false,
          "showticklabels": false,
          "title": {
           "text": ""
          },
          "zeroline": false
         },
         "yaxis": {
          "showbackground": false,
          "showgrid": false,
          "showline": false,
          "showticklabels": false,
          "title": {
           "text": ""
          },
          "zeroline": false
         }
        },
        "showlegend": false,
        "template": {
         "data": {
          "bar": [
           {
            "error_x": {
             "color": "#2a3f5f"
            },
            "error_y": {
             "color": "#2a3f5f"
            },
            "marker": {
             "line": {
              "color": "#E5ECF6",
              "width": 0.5
             },
             "pattern": {
              "fillmode": "overlay",
              "size": 10,
              "solidity": 0.2
             }
            },
            "type": "bar"
           }
          ],
          "barpolar": [
           {
            "marker": {
             "line": {
              "color": "#E5ECF6",
              "width": 0.5
             },
             "pattern": {
              "fillmode": "overlay",
              "size": 10,
              "solidity": 0.2
             }
            },
            "type": "barpolar"
           }
          ],
          "carpet": [
           {
            "aaxis": {
             "endlinecolor": "#2a3f5f",
             "gridcolor": "white",
             "linecolor": "white",
             "minorgridcolor": "white",
             "startlinecolor": "#2a3f5f"
            },
            "baxis": {
             "endlinecolor": "#2a3f5f",
             "gridcolor": "white",
             "linecolor": "white",
             "minorgridcolor": "white",
             "startlinecolor": "#2a3f5f"
            },
            "type": "carpet"
           }
          ],
          "choropleth": [
           {
            "colorbar": {
             "outlinewidth": 0,
             "ticks": ""
            },
            "type": "choropleth"
           }
          ],
          "contour": [
           {
            "colorbar": {
             "outlinewidth": 0,
             "ticks": ""
            },
            "colorscale": [
             [
              0,
              "#0d0887"
             ],
             [
              0.1111111111111111,
              "#46039f"
             ],
             [
              0.2222222222222222,
              "#7201a8"
             ],
             [
              0.3333333333333333,
              "#9c179e"
             ],
             [
              0.4444444444444444,
              "#bd3786"
             ],
             [
              0.5555555555555556,
              "#d8576b"
             ],
             [
              0.6666666666666666,
              "#ed7953"
             ],
             [
              0.7777777777777778,
              "#fb9f3a"
             ],
             [
              0.8888888888888888,
              "#fdca26"
             ],
             [
              1,
              "#f0f921"
             ]
            ],
            "type": "contour"
           }
          ],
          "contourcarpet": [
           {
            "colorbar": {
             "outlinewidth": 0,
             "ticks": ""
            },
            "type": "contourcarpet"
           }
          ],
          "heatmap": [
           {
            "colorbar": {
             "outlinewidth": 0,
             "ticks": ""
            },
            "colorscale": [
             [
              0,
              "#0d0887"
             ],
             [
              0.1111111111111111,
              "#46039f"
             ],
             [
              0.2222222222222222,
              "#7201a8"
             ],
             [
              0.3333333333333333,
              "#9c179e"
             ],
             [
              0.4444444444444444,
              "#bd3786"
             ],
             [
              0.5555555555555556,
              "#d8576b"
             ],
             [
              0.6666666666666666,
              "#ed7953"
             ],
             [
              0.7777777777777778,
              "#fb9f3a"
             ],
             [
              0.8888888888888888,
              "#fdca26"
             ],
             [
              1,
              "#f0f921"
             ]
            ],
            "type": "heatmap"
           }
          ],
          "heatmapgl": [
           {
            "colorbar": {
             "outlinewidth": 0,
             "ticks": ""
            },
            "colorscale": [
             [
              0,
              "#0d0887"
             ],
             [
              0.1111111111111111,
              "#46039f"
             ],
             [
              0.2222222222222222,
              "#7201a8"
             ],
             [
              0.3333333333333333,
              "#9c179e"
             ],
             [
              0.4444444444444444,
              "#bd3786"
             ],
             [
              0.5555555555555556,
              "#d8576b"
             ],
             [
              0.6666666666666666,
              "#ed7953"
             ],
             [
              0.7777777777777778,
              "#fb9f3a"
             ],
             [
              0.8888888888888888,
              "#fdca26"
             ],
             [
              1,
              "#f0f921"
             ]
            ],
            "type": "heatmapgl"
           }
          ],
          "histogram": [
           {
            "marker": {
             "pattern": {
              "fillmode": "overlay",
              "size": 10,
              "solidity": 0.2
             }
            },
            "type": "histogram"
           }
          ],
          "histogram2d": [
           {
            "colorbar": {
             "outlinewidth": 0,
             "ticks": ""
            },
            "colorscale": [
             [
              0,
              "#0d0887"
             ],
             [
              0.1111111111111111,
              "#46039f"
             ],
             [
              0.2222222222222222,
              "#7201a8"
             ],
             [
              0.3333333333333333,
              "#9c179e"
             ],
             [
              0.4444444444444444,
              "#bd3786"
             ],
             [
              0.5555555555555556,
              "#d8576b"
             ],
             [
              0.6666666666666666,
              "#ed7953"
             ],
             [
              0.7777777777777778,
              "#fb9f3a"
             ],
             [
              0.8888888888888888,
              "#fdca26"
             ],
             [
              1,
              "#f0f921"
             ]
            ],
            "type": "histogram2d"
           }
          ],
          "histogram2dcontour": [
           {
            "colorbar": {
             "outlinewidth": 0,
             "ticks": ""
            },
            "colorscale": [
             [
              0,
              "#0d0887"
             ],
             [
              0.1111111111111111,
              "#46039f"
             ],
             [
              0.2222222222222222,
              "#7201a8"
             ],
             [
              0.3333333333333333,
              "#9c179e"
             ],
             [
              0.4444444444444444,
              "#bd3786"
             ],
             [
              0.5555555555555556,
              "#d8576b"
             ],
             [
              0.6666666666666666,
              "#ed7953"
             ],
             [
              0.7777777777777778,
              "#fb9f3a"
             ],
             [
              0.8888888888888888,
              "#fdca26"
             ],
             [
              1,
              "#f0f921"
             ]
            ],
            "type": "histogram2dcontour"
           }
          ],
          "mesh3d": [
           {
            "colorbar": {
             "outlinewidth": 0,
             "ticks": ""
            },
            "type": "mesh3d"
           }
          ],
          "parcoords": [
           {
            "line": {
             "colorbar": {
              "outlinewidth": 0,
              "ticks": ""
             }
            },
            "type": "parcoords"
           }
          ],
          "pie": [
           {
            "automargin": true,
            "type": "pie"
           }
          ],
          "scatter": [
           {
            "marker": {
             "colorbar": {
              "outlinewidth": 0,
              "ticks": ""
             }
            },
            "type": "scatter"
           }
          ],
          "scatter3d": [
           {
            "line": {
             "colorbar": {
              "outlinewidth": 0,
              "ticks": ""
             }
            },
            "marker": {
             "colorbar": {
              "outlinewidth": 0,
              "ticks": ""
             }
            },
            "type": "scatter3d"
           }
          ],
          "scattercarpet": [
           {
            "marker": {
             "colorbar": {
              "outlinewidth": 0,
              "ticks": ""
             }
            },
            "type": "scattercarpet"
           }
          ],
          "scattergeo": [
           {
            "marker": {
             "colorbar": {
              "outlinewidth": 0,
              "ticks": ""
             }
            },
            "type": "scattergeo"
           }
          ],
          "scattergl": [
           {
            "marker": {
             "colorbar": {
              "outlinewidth": 0,
              "ticks": ""
             }
            },
            "type": "scattergl"
           }
          ],
          "scattermapbox": [
           {
            "marker": {
             "colorbar": {
              "outlinewidth": 0,
              "ticks": ""
             }
            },
            "type": "scattermapbox"
           }
          ],
          "scatterpolar": [
           {
            "marker": {
             "colorbar": {
              "outlinewidth": 0,
              "ticks": ""
             }
            },
            "type": "scatterpolar"
           }
          ],
          "scatterpolargl": [
           {
            "marker": {
             "colorbar": {
              "outlinewidth": 0,
              "ticks": ""
             }
            },
            "type": "scatterpolargl"
           }
          ],
          "scatterternary": [
           {
            "marker": {
             "colorbar": {
              "outlinewidth": 0,
              "ticks": ""
             }
            },
            "type": "scatterternary"
           }
          ],
          "surface": [
           {
            "colorbar": {
             "outlinewidth": 0,
             "ticks": ""
            },
            "colorscale": [
             [
              0,
              "#0d0887"
             ],
             [
              0.1111111111111111,
              "#46039f"
             ],
             [
              0.2222222222222222,
              "#7201a8"
             ],
             [
              0.3333333333333333,
              "#9c179e"
             ],
             [
              0.4444444444444444,
              "#bd3786"
             ],
             [
              0.5555555555555556,
              "#d8576b"
             ],
             [
              0.6666666666666666,
              "#ed7953"
             ],
             [
              0.7777777777777778,
              "#fb9f3a"
             ],
             [
              0.8888888888888888,
              "#fdca26"
             ],
             [
              1,
              "#f0f921"
             ]
            ],
            "type": "surface"
           }
          ],
          "table": [
           {
            "cells": {
             "fill": {
              "color": "#EBF0F8"
             },
             "line": {
              "color": "white"
             }
            },
            "header": {
             "fill": {
              "color": "#C8D4E3"
             },
             "line": {
              "color": "white"
             }
            },
            "type": "table"
           }
          ]
         },
         "layout": {
          "annotationdefaults": {
           "arrowcolor": "#2a3f5f",
           "arrowhead": 0,
           "arrowwidth": 1
          },
          "autotypenumbers": "strict",
          "coloraxis": {
           "colorbar": {
            "outlinewidth": 0,
            "ticks": ""
           }
          },
          "colorscale": {
           "diverging": [
            [
             0,
             "#8e0152"
            ],
            [
             0.1,
             "#c51b7d"
            ],
            [
             0.2,
             "#de77ae"
            ],
            [
             0.3,
             "#f1b6da"
            ],
            [
             0.4,
             "#fde0ef"
            ],
            [
             0.5,
             "#f7f7f7"
            ],
            [
             0.6,
             "#e6f5d0"
            ],
            [
             0.7,
             "#b8e186"
            ],
            [
             0.8,
             "#7fbc41"
            ],
            [
             0.9,
             "#4d9221"
            ],
            [
             1,
             "#276419"
            ]
           ],
           "sequential": [
            [
             0,
             "#0d0887"
            ],
            [
             0.1111111111111111,
             "#46039f"
            ],
            [
             0.2222222222222222,
             "#7201a8"
            ],
            [
             0.3333333333333333,
             "#9c179e"
            ],
            [
             0.4444444444444444,
             "#bd3786"
            ],
            [
             0.5555555555555556,
             "#d8576b"
            ],
            [
             0.6666666666666666,
             "#ed7953"
            ],
            [
             0.7777777777777778,
             "#fb9f3a"
            ],
            [
             0.8888888888888888,
             "#fdca26"
            ],
            [
             1,
             "#f0f921"
            ]
           ],
           "sequentialminus": [
            [
             0,
             "#0d0887"
            ],
            [
             0.1111111111111111,
             "#46039f"
            ],
            [
             0.2222222222222222,
             "#7201a8"
            ],
            [
             0.3333333333333333,
             "#9c179e"
            ],
            [
             0.4444444444444444,
             "#bd3786"
            ],
            [
             0.5555555555555556,
             "#d8576b"
            ],
            [
             0.6666666666666666,
             "#ed7953"
            ],
            [
             0.7777777777777778,
             "#fb9f3a"
            ],
            [
             0.8888888888888888,
             "#fdca26"
            ],
            [
             1,
             "#f0f921"
            ]
           ]
          },
          "colorway": [
           "#636efa",
           "#EF553B",
           "#00cc96",
           "#ab63fa",
           "#FFA15A",
           "#19d3f3",
           "#FF6692",
           "#B6E880",
           "#FF97FF",
           "#FECB52"
          ],
          "font": {
           "color": "#2a3f5f"
          },
          "geo": {
           "bgcolor": "white",
           "lakecolor": "white",
           "landcolor": "#E5ECF6",
           "showlakes": true,
           "showland": true,
           "subunitcolor": "white"
          },
          "hoverlabel": {
           "align": "left"
          },
          "hovermode": "closest",
          "mapbox": {
           "style": "light"
          },
          "paper_bgcolor": "white",
          "plot_bgcolor": "#E5ECF6",
          "polar": {
           "angularaxis": {
            "gridcolor": "white",
            "linecolor": "white",
            "ticks": ""
           },
           "bgcolor": "#E5ECF6",
           "radialaxis": {
            "gridcolor": "white",
            "linecolor": "white",
            "ticks": ""
           }
          },
          "scene": {
           "xaxis": {
            "backgroundcolor": "#E5ECF6",
            "gridcolor": "white",
            "gridwidth": 2,
            "linecolor": "white",
            "showbackground": true,
            "ticks": "",
            "zerolinecolor": "white"
           },
           "yaxis": {
            "backgroundcolor": "#E5ECF6",
            "gridcolor": "white",
            "gridwidth": 2,
            "linecolor": "white",
            "showbackground": true,
            "ticks": "",
            "zerolinecolor": "white"
           },
           "zaxis": {
            "backgroundcolor": "#E5ECF6",
            "gridcolor": "white",
            "gridwidth": 2,
            "linecolor": "white",
            "showbackground": true,
            "ticks": "",
            "zerolinecolor": "white"
           }
          },
          "shapedefaults": {
           "line": {
            "color": "#2a3f5f"
           }
          },
          "ternary": {
           "aaxis": {
            "gridcolor": "white",
            "linecolor": "white",
            "ticks": ""
           },
           "baxis": {
            "gridcolor": "white",
            "linecolor": "white",
            "ticks": ""
           },
           "bgcolor": "#E5ECF6",
           "caxis": {
            "gridcolor": "white",
            "linecolor": "white",
            "ticks": ""
           }
          },
          "title": {
           "x": 0.05
          },
          "xaxis": {
           "automargin": true,
           "gridcolor": "white",
           "linecolor": "white",
           "ticks": "",
           "title": {
            "standoff": 15
           },
           "zerolinecolor": "white",
           "zerolinewidth": 2
          },
          "yaxis": {
           "automargin": true,
           "gridcolor": "white",
           "linecolor": "white",
           "ticks": "",
           "title": {
            "standoff": 15
           },
           "zerolinecolor": "white",
           "zerolinewidth": 2
          }
         }
        },
        "width": 512,
        "xaxis": {
         "showgrid": false,
         "showticklabels": false,
         "zeroline": false
        },
        "yaxis": {
         "showgrid": false,
         "showticklabels": false,
         "zeroline": false
        }
       }
      },
      "text/html": [
       "<div>                            <div id=\"752ca946-e719-48a4-972a-cf1291cd1343\" class=\"plotly-graph-div\" style=\"height:512px; width:512px;\"></div>            <script type=\"text/javascript\">                require([\"plotly\"], function(Plotly) {                    window.PLOTLYENV=window.PLOTLYENV || {};                                    if (document.getElementById(\"752ca946-e719-48a4-972a-cf1291cd1343\")) {                    Plotly.newPlot(                        \"752ca946-e719-48a4-972a-cf1291cd1343\",                        [{\"hoverinfo\":\"none\",\"line\":{\"color\":\"rgba(0.5, 0.5, 0.5, 0.5)\",\"width\":1.0},\"mode\":\"lines\",\"opacity\":0.75,\"x\":[0.9429499932616188,-0.7891008143072581,null,0.9429499932616188,-0.1538491789543608,null,-0.7891008143072581,-0.1538491789543608,null],\"y\":[0.3667627026741449,0.6332372973258542,null,0.3667627026741449,-1.0,null,0.6332372973258542,-1.0,null],\"type\":\"scatter\"},{\"hoverinfo\":\"text\",\"marker\":{\"cmax\":0.7657295452943528,\"cmin\":0.32335800703792505,\"color\":[0.541488051261198,0.4939372968242973,0.5077918091914692],\"colorbar\":{\"thickness\":12,\"title\":{\"side\":\"right\",\"text\":\"\"},\"xanchor\":\"left\",\"xpad\":0},\"colorscale\":[[0.0,\"#440154\"],[0.1111111111111111,\"#482878\"],[0.2222222222222222,\"#3e4989\"],[0.3333333333333333,\"#31688e\"],[0.4444444444444444,\"#26828e\"],[0.5555555555555556,\"#1f9e89\"],[0.6666666666666666,\"#35b779\"],[0.7777777777777778,\"#6ece58\"],[0.8888888888888888,\"#b5de2b\"],[1.0,\"#fde725\"]],\"line\":{\"color\":\"rgba(0.25, 0.25, 0.25, 1.0)\",\"width\":1.0},\"opacity\":0.85,\"reversescale\":true,\"showscale\":true,\"size\":[28.37715908780752,30.0,26.207672641101844]},\"mode\":\"markers\",\"opacity\":1.0,\"text\":[\"size: 68, color: 0.54, cc: 1\",\"size: 76, color: 0.49, cc: 1\",\"size: 58, color: 0.51, cc: 1\"],\"x\":[0.9429499932616188,-0.7891008143072581,-0.1538491789543608],\"y\":[0.3667627026741449,0.6332372973258542,-1.0],\"type\":\"scatter\"}],                        {\"annotations\":[{\"showarrow\":false,\"text\":\"\",\"x\":0.0,\"xref\":\"paper\",\"y\":0.0,\"yref\":\"paper\"}],\"autosize\":false,\"height\":512,\"hovermode\":\"closest\",\"margin\":{\"b\":0,\"l\":0,\"r\":0,\"t\":0},\"plot_bgcolor\":\"rgba(0, 0, 0, 0)\",\"scene\":{\"xaxis\":{\"showbackground\":false,\"showgrid\":false,\"showline\":false,\"showticklabels\":false,\"title\":{\"text\":\"\"},\"zeroline\":false},\"yaxis\":{\"showbackground\":false,\"showgrid\":false,\"showline\":false,\"showticklabels\":false,\"title\":{\"text\":\"\"},\"zeroline\":false}},\"showlegend\":false,\"width\":512,\"xaxis\":{\"showgrid\":false,\"showticklabels\":false,\"zeroline\":false},\"yaxis\":{\"showgrid\":false,\"showticklabels\":false,\"zeroline\":false},\"template\":{\"data\":{\"bar\":[{\"error_x\":{\"color\":\"#2a3f5f\"},\"error_y\":{\"color\":\"#2a3f5f\"},\"marker\":{\"line\":{\"color\":\"#E5ECF6\",\"width\":0.5},\"pattern\":{\"fillmode\":\"overlay\",\"size\":10,\"solidity\":0.2}},\"type\":\"bar\"}],\"barpolar\":[{\"marker\":{\"line\":{\"color\":\"#E5ECF6\",\"width\":0.5},\"pattern\":{\"fillmode\":\"overlay\",\"size\":10,\"solidity\":0.2}},\"type\":\"barpolar\"}],\"carpet\":[{\"aaxis\":{\"endlinecolor\":\"#2a3f5f\",\"gridcolor\":\"white\",\"linecolor\":\"white\",\"minorgridcolor\":\"white\",\"startlinecolor\":\"#2a3f5f\"},\"baxis\":{\"endlinecolor\":\"#2a3f5f\",\"gridcolor\":\"white\",\"linecolor\":\"white\",\"minorgridcolor\":\"white\",\"startlinecolor\":\"#2a3f5f\"},\"type\":\"carpet\"}],\"choropleth\":[{\"colorbar\":{\"outlinewidth\":0,\"ticks\":\"\"},\"type\":\"choropleth\"}],\"contour\":[{\"colorbar\":{\"outlinewidth\":0,\"ticks\":\"\"},\"colorscale\":[[0.0,\"#0d0887\"],[0.1111111111111111,\"#46039f\"],[0.2222222222222222,\"#7201a8\"],[0.3333333333333333,\"#9c179e\"],[0.4444444444444444,\"#bd3786\"],[0.5555555555555556,\"#d8576b\"],[0.6666666666666666,\"#ed7953\"],[0.7777777777777778,\"#fb9f3a\"],[0.8888888888888888,\"#fdca26\"],[1.0,\"#f0f921\"]],\"type\":\"contour\"}],\"contourcarpet\":[{\"colorbar\":{\"outlinewidth\":0,\"ticks\":\"\"},\"type\":\"contourcarpet\"}],\"heatmap\":[{\"colorbar\":{\"outlinewidth\":0,\"ticks\":\"\"},\"colorscale\":[[0.0,\"#0d0887\"],[0.1111111111111111,\"#46039f\"],[0.2222222222222222,\"#7201a8\"],[0.3333333333333333,\"#9c179e\"],[0.4444444444444444,\"#bd3786\"],[0.5555555555555556,\"#d8576b\"],[0.6666666666666666,\"#ed7953\"],[0.7777777777777778,\"#fb9f3a\"],[0.8888888888888888,\"#fdca26\"],[1.0,\"#f0f921\"]],\"type\":\"heatmap\"}],\"heatmapgl\":[{\"colorbar\":{\"outlinewidth\":0,\"ticks\":\"\"},\"colorscale\":[[0.0,\"#0d0887\"],[0.1111111111111111,\"#46039f\"],[0.2222222222222222,\"#7201a8\"],[0.3333333333333333,\"#9c179e\"],[0.4444444444444444,\"#bd3786\"],[0.5555555555555556,\"#d8576b\"],[0.6666666666666666,\"#ed7953\"],[0.7777777777777778,\"#fb9f3a\"],[0.8888888888888888,\"#fdca26\"],[1.0,\"#f0f921\"]],\"type\":\"heatmapgl\"}],\"histogram\":[{\"marker\":{\"pattern\":{\"fillmode\":\"overlay\",\"size\":10,\"solidity\":0.2}},\"type\":\"histogram\"}],\"histogram2d\":[{\"colorbar\":{\"outlinewidth\":0,\"ticks\":\"\"},\"colorscale\":[[0.0,\"#0d0887\"],[0.1111111111111111,\"#46039f\"],[0.2222222222222222,\"#7201a8\"],[0.3333333333333333,\"#9c179e\"],[0.4444444444444444,\"#bd3786\"],[0.5555555555555556,\"#d8576b\"],[0.6666666666666666,\"#ed7953\"],[0.7777777777777778,\"#fb9f3a\"],[0.8888888888888888,\"#fdca26\"],[1.0,\"#f0f921\"]],\"type\":\"histogram2d\"}],\"histogram2dcontour\":[{\"colorbar\":{\"outlinewidth\":0,\"ticks\":\"\"},\"colorscale\":[[0.0,\"#0d0887\"],[0.1111111111111111,\"#46039f\"],[0.2222222222222222,\"#7201a8\"],[0.3333333333333333,\"#9c179e\"],[0.4444444444444444,\"#bd3786\"],[0.5555555555555556,\"#d8576b\"],[0.6666666666666666,\"#ed7953\"],[0.7777777777777778,\"#fb9f3a\"],[0.8888888888888888,\"#fdca26\"],[1.0,\"#f0f921\"]],\"type\":\"histogram2dcontour\"}],\"mesh3d\":[{\"colorbar\":{\"outlinewidth\":0,\"ticks\":\"\"},\"type\":\"mesh3d\"}],\"parcoords\":[{\"line\":{\"colorbar\":{\"outlinewidth\":0,\"ticks\":\"\"}},\"type\":\"parcoords\"}],\"pie\":[{\"automargin\":true,\"type\":\"pie\"}],\"scatter\":[{\"marker\":{\"colorbar\":{\"outlinewidth\":0,\"ticks\":\"\"}},\"type\":\"scatter\"}],\"scatter3d\":[{\"line\":{\"colorbar\":{\"outlinewidth\":0,\"ticks\":\"\"}},\"marker\":{\"colorbar\":{\"outlinewidth\":0,\"ticks\":\"\"}},\"type\":\"scatter3d\"}],\"scattercarpet\":[{\"marker\":{\"colorbar\":{\"outlinewidth\":0,\"ticks\":\"\"}},\"type\":\"scattercarpet\"}],\"scattergeo\":[{\"marker\":{\"colorbar\":{\"outlinewidth\":0,\"ticks\":\"\"}},\"type\":\"scattergeo\"}],\"scattergl\":[{\"marker\":{\"colorbar\":{\"outlinewidth\":0,\"ticks\":\"\"}},\"type\":\"scattergl\"}],\"scattermapbox\":[{\"marker\":{\"colorbar\":{\"outlinewidth\":0,\"ticks\":\"\"}},\"type\":\"scattermapbox\"}],\"scatterpolar\":[{\"marker\":{\"colorbar\":{\"outlinewidth\":0,\"ticks\":\"\"}},\"type\":\"scatterpolar\"}],\"scatterpolargl\":[{\"marker\":{\"colorbar\":{\"outlinewidth\":0,\"ticks\":\"\"}},\"type\":\"scatterpolargl\"}],\"scatterternary\":[{\"marker\":{\"colorbar\":{\"outlinewidth\":0,\"ticks\":\"\"}},\"type\":\"scatterternary\"}],\"surface\":[{\"colorbar\":{\"outlinewidth\":0,\"ticks\":\"\"},\"colorscale\":[[0.0,\"#0d0887\"],[0.1111111111111111,\"#46039f\"],[0.2222222222222222,\"#7201a8\"],[0.3333333333333333,\"#9c179e\"],[0.4444444444444444,\"#bd3786\"],[0.5555555555555556,\"#d8576b\"],[0.6666666666666666,\"#ed7953\"],[0.7777777777777778,\"#fb9f3a\"],[0.8888888888888888,\"#fdca26\"],[1.0,\"#f0f921\"]],\"type\":\"surface\"}],\"table\":[{\"cells\":{\"fill\":{\"color\":\"#EBF0F8\"},\"line\":{\"color\":\"white\"}},\"header\":{\"fill\":{\"color\":\"#C8D4E3\"},\"line\":{\"color\":\"white\"}},\"type\":\"table\"}]},\"layout\":{\"annotationdefaults\":{\"arrowcolor\":\"#2a3f5f\",\"arrowhead\":0,\"arrowwidth\":1},\"autotypenumbers\":\"strict\",\"coloraxis\":{\"colorbar\":{\"outlinewidth\":0,\"ticks\":\"\"}},\"colorscale\":{\"diverging\":[[0,\"#8e0152\"],[0.1,\"#c51b7d\"],[0.2,\"#de77ae\"],[0.3,\"#f1b6da\"],[0.4,\"#fde0ef\"],[0.5,\"#f7f7f7\"],[0.6,\"#e6f5d0\"],[0.7,\"#b8e186\"],[0.8,\"#7fbc41\"],[0.9,\"#4d9221\"],[1,\"#276419\"]],\"sequential\":[[0.0,\"#0d0887\"],[0.1111111111111111,\"#46039f\"],[0.2222222222222222,\"#7201a8\"],[0.3333333333333333,\"#9c179e\"],[0.4444444444444444,\"#bd3786\"],[0.5555555555555556,\"#d8576b\"],[0.6666666666666666,\"#ed7953\"],[0.7777777777777778,\"#fb9f3a\"],[0.8888888888888888,\"#fdca26\"],[1.0,\"#f0f921\"]],\"sequentialminus\":[[0.0,\"#0d0887\"],[0.1111111111111111,\"#46039f\"],[0.2222222222222222,\"#7201a8\"],[0.3333333333333333,\"#9c179e\"],[0.4444444444444444,\"#bd3786\"],[0.5555555555555556,\"#d8576b\"],[0.6666666666666666,\"#ed7953\"],[0.7777777777777778,\"#fb9f3a\"],[0.8888888888888888,\"#fdca26\"],[1.0,\"#f0f921\"]]},\"colorway\":[\"#636efa\",\"#EF553B\",\"#00cc96\",\"#ab63fa\",\"#FFA15A\",\"#19d3f3\",\"#FF6692\",\"#B6E880\",\"#FF97FF\",\"#FECB52\"],\"font\":{\"color\":\"#2a3f5f\"},\"geo\":{\"bgcolor\":\"white\",\"lakecolor\":\"white\",\"landcolor\":\"#E5ECF6\",\"showlakes\":true,\"showland\":true,\"subunitcolor\":\"white\"},\"hoverlabel\":{\"align\":\"left\"},\"hovermode\":\"closest\",\"mapbox\":{\"style\":\"light\"},\"paper_bgcolor\":\"white\",\"plot_bgcolor\":\"#E5ECF6\",\"polar\":{\"angularaxis\":{\"gridcolor\":\"white\",\"linecolor\":\"white\",\"ticks\":\"\"},\"bgcolor\":\"#E5ECF6\",\"radialaxis\":{\"gridcolor\":\"white\",\"linecolor\":\"white\",\"ticks\":\"\"}},\"scene\":{\"xaxis\":{\"backgroundcolor\":\"#E5ECF6\",\"gridcolor\":\"white\",\"gridwidth\":2,\"linecolor\":\"white\",\"showbackground\":true,\"ticks\":\"\",\"zerolinecolor\":\"white\"},\"yaxis\":{\"backgroundcolor\":\"#E5ECF6\",\"gridcolor\":\"white\",\"gridwidth\":2,\"linecolor\":\"white\",\"showbackground\":true,\"ticks\":\"\",\"zerolinecolor\":\"white\"},\"zaxis\":{\"backgroundcolor\":\"#E5ECF6\",\"gridcolor\":\"white\",\"gridwidth\":2,\"linecolor\":\"white\",\"showbackground\":true,\"ticks\":\"\",\"zerolinecolor\":\"white\"}},\"shapedefaults\":{\"line\":{\"color\":\"#2a3f5f\"}},\"ternary\":{\"aaxis\":{\"gridcolor\":\"white\",\"linecolor\":\"white\",\"ticks\":\"\"},\"baxis\":{\"gridcolor\":\"white\",\"linecolor\":\"white\",\"ticks\":\"\"},\"bgcolor\":\"#E5ECF6\",\"caxis\":{\"gridcolor\":\"white\",\"linecolor\":\"white\",\"ticks\":\"\"}},\"title\":{\"x\":0.05},\"xaxis\":{\"automargin\":true,\"gridcolor\":\"white\",\"linecolor\":\"white\",\"ticks\":\"\",\"title\":{\"standoff\":15},\"zerolinecolor\":\"white\",\"zerolinewidth\":2},\"yaxis\":{\"automargin\":true,\"gridcolor\":\"white\",\"linecolor\":\"white\",\"ticks\":\"\",\"title\":{\"standoff\":15},\"zerolinecolor\":\"white\",\"zerolinewidth\":2}}}},                        {\"responsive\": true}                    ).then(function(){\n",
       "                            \n",
       "var gd = document.getElementById('752ca946-e719-48a4-972a-cf1291cd1343');\n",
       "var x = new MutationObserver(function (mutations, observer) {{\n",
       "        var display = window.getComputedStyle(gd).display;\n",
       "        if (!display || display === 'none') {{\n",
       "            console.log([gd, 'removed!']);\n",
       "            Plotly.purge(gd);\n",
       "            observer.disconnect();\n",
       "        }}\n",
       "}});\n",
       "\n",
       "// Listen for the removal of the full notebook cells\n",
       "var notebookContainer = gd.closest('#notebook-container');\n",
       "if (notebookContainer) {{\n",
       "    x.observe(notebookContainer, {childList: true});\n",
       "}}\n",
       "\n",
       "// Listen for the clearing of the current output cell\n",
       "var outputEl = gd.closest('.output');\n",
       "if (outputEl) {{\n",
       "    x.observe(outputEl, {childList: true});\n",
       "}}\n",
       "\n",
       "                        })                };                });            </script>        </div>"
      ]
     },
     "metadata": {},
     "output_type": "display_data"
    }
   ],
   "source": [
    "g.colorize(data, np.nanmean)\n",
    "fig = g.plot(512, 512, frontend='plotly')\n",
    "fig.show()"
   ]
  },
  {
   "cell_type": "code",
   "execution_count": 13,
   "id": "c56f31f2",
   "metadata": {},
   "outputs": [
    {
     "data": {
      "application/javascript": [
       "/* Put everything inside the global mpl namespace */\n",
       "/* global mpl */\n",
       "window.mpl = {};\n",
       "\n",
       "mpl.get_websocket_type = function () {\n",
       "    if (typeof WebSocket !== 'undefined') {\n",
       "        return WebSocket;\n",
       "    } else if (typeof MozWebSocket !== 'undefined') {\n",
       "        return MozWebSocket;\n",
       "    } else {\n",
       "        alert(\n",
       "            'Your browser does not have WebSocket support. ' +\n",
       "                'Please try Chrome, Safari or Firefox ≥ 6. ' +\n",
       "                'Firefox 4 and 5 are also supported but you ' +\n",
       "                'have to enable WebSockets in about:config.'\n",
       "        );\n",
       "    }\n",
       "};\n",
       "\n",
       "mpl.figure = function (figure_id, websocket, ondownload, parent_element) {\n",
       "    this.id = figure_id;\n",
       "\n",
       "    this.ws = websocket;\n",
       "\n",
       "    this.supports_binary = this.ws.binaryType !== undefined;\n",
       "\n",
       "    if (!this.supports_binary) {\n",
       "        var warnings = document.getElementById('mpl-warnings');\n",
       "        if (warnings) {\n",
       "            warnings.style.display = 'block';\n",
       "            warnings.textContent =\n",
       "                'This browser does not support binary websocket messages. ' +\n",
       "                'Performance may be slow.';\n",
       "        }\n",
       "    }\n",
       "\n",
       "    this.imageObj = new Image();\n",
       "\n",
       "    this.context = undefined;\n",
       "    this.message = undefined;\n",
       "    this.canvas = undefined;\n",
       "    this.rubberband_canvas = undefined;\n",
       "    this.rubberband_context = undefined;\n",
       "    this.format_dropdown = undefined;\n",
       "\n",
       "    this.image_mode = 'full';\n",
       "\n",
       "    this.root = document.createElement('div');\n",
       "    this.root.setAttribute('style', 'display: inline-block');\n",
       "    this._root_extra_style(this.root);\n",
       "\n",
       "    parent_element.appendChild(this.root);\n",
       "\n",
       "    this._init_header(this);\n",
       "    this._init_canvas(this);\n",
       "    this._init_toolbar(this);\n",
       "\n",
       "    var fig = this;\n",
       "\n",
       "    this.waiting = false;\n",
       "\n",
       "    this.ws.onopen = function () {\n",
       "        fig.send_message('supports_binary', { value: fig.supports_binary });\n",
       "        fig.send_message('send_image_mode', {});\n",
       "        if (fig.ratio !== 1) {\n",
       "            fig.send_message('set_device_pixel_ratio', {\n",
       "                device_pixel_ratio: fig.ratio,\n",
       "            });\n",
       "        }\n",
       "        fig.send_message('refresh', {});\n",
       "    };\n",
       "\n",
       "    this.imageObj.onload = function () {\n",
       "        if (fig.image_mode === 'full') {\n",
       "            // Full images could contain transparency (where diff images\n",
       "            // almost always do), so we need to clear the canvas so that\n",
       "            // there is no ghosting.\n",
       "            fig.context.clearRect(0, 0, fig.canvas.width, fig.canvas.height);\n",
       "        }\n",
       "        fig.context.drawImage(fig.imageObj, 0, 0);\n",
       "    };\n",
       "\n",
       "    this.imageObj.onunload = function () {\n",
       "        fig.ws.close();\n",
       "    };\n",
       "\n",
       "    this.ws.onmessage = this._make_on_message_function(this);\n",
       "\n",
       "    this.ondownload = ondownload;\n",
       "};\n",
       "\n",
       "mpl.figure.prototype._init_header = function () {\n",
       "    var titlebar = document.createElement('div');\n",
       "    titlebar.classList =\n",
       "        'ui-dialog-titlebar ui-widget-header ui-corner-all ui-helper-clearfix';\n",
       "    var titletext = document.createElement('div');\n",
       "    titletext.classList = 'ui-dialog-title';\n",
       "    titletext.setAttribute(\n",
       "        'style',\n",
       "        'width: 100%; text-align: center; padding: 3px;'\n",
       "    );\n",
       "    titlebar.appendChild(titletext);\n",
       "    this.root.appendChild(titlebar);\n",
       "    this.header = titletext;\n",
       "};\n",
       "\n",
       "mpl.figure.prototype._canvas_extra_style = function (_canvas_div) {};\n",
       "\n",
       "mpl.figure.prototype._root_extra_style = function (_canvas_div) {};\n",
       "\n",
       "mpl.figure.prototype._init_canvas = function () {\n",
       "    var fig = this;\n",
       "\n",
       "    var canvas_div = (this.canvas_div = document.createElement('div'));\n",
       "    canvas_div.setAttribute(\n",
       "        'style',\n",
       "        'border: 1px solid #ddd;' +\n",
       "            'box-sizing: content-box;' +\n",
       "            'clear: both;' +\n",
       "            'min-height: 1px;' +\n",
       "            'min-width: 1px;' +\n",
       "            'outline: 0;' +\n",
       "            'overflow: hidden;' +\n",
       "            'position: relative;' +\n",
       "            'resize: both;'\n",
       "    );\n",
       "\n",
       "    function on_keyboard_event_closure(name) {\n",
       "        return function (event) {\n",
       "            return fig.key_event(event, name);\n",
       "        };\n",
       "    }\n",
       "\n",
       "    canvas_div.addEventListener(\n",
       "        'keydown',\n",
       "        on_keyboard_event_closure('key_press')\n",
       "    );\n",
       "    canvas_div.addEventListener(\n",
       "        'keyup',\n",
       "        on_keyboard_event_closure('key_release')\n",
       "    );\n",
       "\n",
       "    this._canvas_extra_style(canvas_div);\n",
       "    this.root.appendChild(canvas_div);\n",
       "\n",
       "    var canvas = (this.canvas = document.createElement('canvas'));\n",
       "    canvas.classList.add('mpl-canvas');\n",
       "    canvas.setAttribute('style', 'box-sizing: content-box;');\n",
       "\n",
       "    this.context = canvas.getContext('2d');\n",
       "\n",
       "    var backingStore =\n",
       "        this.context.backingStorePixelRatio ||\n",
       "        this.context.webkitBackingStorePixelRatio ||\n",
       "        this.context.mozBackingStorePixelRatio ||\n",
       "        this.context.msBackingStorePixelRatio ||\n",
       "        this.context.oBackingStorePixelRatio ||\n",
       "        this.context.backingStorePixelRatio ||\n",
       "        1;\n",
       "\n",
       "    this.ratio = (window.devicePixelRatio || 1) / backingStore;\n",
       "\n",
       "    var rubberband_canvas = (this.rubberband_canvas = document.createElement(\n",
       "        'canvas'\n",
       "    ));\n",
       "    rubberband_canvas.setAttribute(\n",
       "        'style',\n",
       "        'box-sizing: content-box; position: absolute; left: 0; top: 0; z-index: 1;'\n",
       "    );\n",
       "\n",
       "    // Apply a ponyfill if ResizeObserver is not implemented by browser.\n",
       "    if (this.ResizeObserver === undefined) {\n",
       "        if (window.ResizeObserver !== undefined) {\n",
       "            this.ResizeObserver = window.ResizeObserver;\n",
       "        } else {\n",
       "            var obs = _JSXTOOLS_RESIZE_OBSERVER({});\n",
       "            this.ResizeObserver = obs.ResizeObserver;\n",
       "        }\n",
       "    }\n",
       "\n",
       "    this.resizeObserverInstance = new this.ResizeObserver(function (entries) {\n",
       "        var nentries = entries.length;\n",
       "        for (var i = 0; i < nentries; i++) {\n",
       "            var entry = entries[i];\n",
       "            var width, height;\n",
       "            if (entry.contentBoxSize) {\n",
       "                if (entry.contentBoxSize instanceof Array) {\n",
       "                    // Chrome 84 implements new version of spec.\n",
       "                    width = entry.contentBoxSize[0].inlineSize;\n",
       "                    height = entry.contentBoxSize[0].blockSize;\n",
       "                } else {\n",
       "                    // Firefox implements old version of spec.\n",
       "                    width = entry.contentBoxSize.inlineSize;\n",
       "                    height = entry.contentBoxSize.blockSize;\n",
       "                }\n",
       "            } else {\n",
       "                // Chrome <84 implements even older version of spec.\n",
       "                width = entry.contentRect.width;\n",
       "                height = entry.contentRect.height;\n",
       "            }\n",
       "\n",
       "            // Keep the size of the canvas and rubber band canvas in sync with\n",
       "            // the canvas container.\n",
       "            if (entry.devicePixelContentBoxSize) {\n",
       "                // Chrome 84 implements new version of spec.\n",
       "                canvas.setAttribute(\n",
       "                    'width',\n",
       "                    entry.devicePixelContentBoxSize[0].inlineSize\n",
       "                );\n",
       "                canvas.setAttribute(\n",
       "                    'height',\n",
       "                    entry.devicePixelContentBoxSize[0].blockSize\n",
       "                );\n",
       "            } else {\n",
       "                canvas.setAttribute('width', width * fig.ratio);\n",
       "                canvas.setAttribute('height', height * fig.ratio);\n",
       "            }\n",
       "            canvas.setAttribute(\n",
       "                'style',\n",
       "                'width: ' + width + 'px; height: ' + height + 'px;'\n",
       "            );\n",
       "\n",
       "            rubberband_canvas.setAttribute('width', width);\n",
       "            rubberband_canvas.setAttribute('height', height);\n",
       "\n",
       "            // And update the size in Python. We ignore the initial 0/0 size\n",
       "            // that occurs as the element is placed into the DOM, which should\n",
       "            // otherwise not happen due to the minimum size styling.\n",
       "            if (fig.ws.readyState == 1 && width != 0 && height != 0) {\n",
       "                fig.request_resize(width, height);\n",
       "            }\n",
       "        }\n",
       "    });\n",
       "    this.resizeObserverInstance.observe(canvas_div);\n",
       "\n",
       "    function on_mouse_event_closure(name) {\n",
       "        return function (event) {\n",
       "            return fig.mouse_event(event, name);\n",
       "        };\n",
       "    }\n",
       "\n",
       "    rubberband_canvas.addEventListener(\n",
       "        'mousedown',\n",
       "        on_mouse_event_closure('button_press')\n",
       "    );\n",
       "    rubberband_canvas.addEventListener(\n",
       "        'mouseup',\n",
       "        on_mouse_event_closure('button_release')\n",
       "    );\n",
       "    rubberband_canvas.addEventListener(\n",
       "        'dblclick',\n",
       "        on_mouse_event_closure('dblclick')\n",
       "    );\n",
       "    // Throttle sequential mouse events to 1 every 20ms.\n",
       "    rubberband_canvas.addEventListener(\n",
       "        'mousemove',\n",
       "        on_mouse_event_closure('motion_notify')\n",
       "    );\n",
       "\n",
       "    rubberband_canvas.addEventListener(\n",
       "        'mouseenter',\n",
       "        on_mouse_event_closure('figure_enter')\n",
       "    );\n",
       "    rubberband_canvas.addEventListener(\n",
       "        'mouseleave',\n",
       "        on_mouse_event_closure('figure_leave')\n",
       "    );\n",
       "\n",
       "    canvas_div.addEventListener('wheel', function (event) {\n",
       "        if (event.deltaY < 0) {\n",
       "            event.step = 1;\n",
       "        } else {\n",
       "            event.step = -1;\n",
       "        }\n",
       "        on_mouse_event_closure('scroll')(event);\n",
       "    });\n",
       "\n",
       "    canvas_div.appendChild(canvas);\n",
       "    canvas_div.appendChild(rubberband_canvas);\n",
       "\n",
       "    this.rubberband_context = rubberband_canvas.getContext('2d');\n",
       "    this.rubberband_context.strokeStyle = '#000000';\n",
       "\n",
       "    this._resize_canvas = function (width, height, forward) {\n",
       "        if (forward) {\n",
       "            canvas_div.style.width = width + 'px';\n",
       "            canvas_div.style.height = height + 'px';\n",
       "        }\n",
       "    };\n",
       "\n",
       "    // Disable right mouse context menu.\n",
       "    this.rubberband_canvas.addEventListener('contextmenu', function (_e) {\n",
       "        event.preventDefault();\n",
       "        return false;\n",
       "    });\n",
       "\n",
       "    function set_focus() {\n",
       "        canvas.focus();\n",
       "        canvas_div.focus();\n",
       "    }\n",
       "\n",
       "    window.setTimeout(set_focus, 100);\n",
       "};\n",
       "\n",
       "mpl.figure.prototype._init_toolbar = function () {\n",
       "    var fig = this;\n",
       "\n",
       "    var toolbar = document.createElement('div');\n",
       "    toolbar.classList = 'mpl-toolbar';\n",
       "    this.root.appendChild(toolbar);\n",
       "\n",
       "    function on_click_closure(name) {\n",
       "        return function (_event) {\n",
       "            return fig.toolbar_button_onclick(name);\n",
       "        };\n",
       "    }\n",
       "\n",
       "    function on_mouseover_closure(tooltip) {\n",
       "        return function (event) {\n",
       "            if (!event.currentTarget.disabled) {\n",
       "                return fig.toolbar_button_onmouseover(tooltip);\n",
       "            }\n",
       "        };\n",
       "    }\n",
       "\n",
       "    fig.buttons = {};\n",
       "    var buttonGroup = document.createElement('div');\n",
       "    buttonGroup.classList = 'mpl-button-group';\n",
       "    for (var toolbar_ind in mpl.toolbar_items) {\n",
       "        var name = mpl.toolbar_items[toolbar_ind][0];\n",
       "        var tooltip = mpl.toolbar_items[toolbar_ind][1];\n",
       "        var image = mpl.toolbar_items[toolbar_ind][2];\n",
       "        var method_name = mpl.toolbar_items[toolbar_ind][3];\n",
       "\n",
       "        if (!name) {\n",
       "            /* Instead of a spacer, we start a new button group. */\n",
       "            if (buttonGroup.hasChildNodes()) {\n",
       "                toolbar.appendChild(buttonGroup);\n",
       "            }\n",
       "            buttonGroup = document.createElement('div');\n",
       "            buttonGroup.classList = 'mpl-button-group';\n",
       "            continue;\n",
       "        }\n",
       "\n",
       "        var button = (fig.buttons[name] = document.createElement('button'));\n",
       "        button.classList = 'mpl-widget';\n",
       "        button.setAttribute('role', 'button');\n",
       "        button.setAttribute('aria-disabled', 'false');\n",
       "        button.addEventListener('click', on_click_closure(method_name));\n",
       "        button.addEventListener('mouseover', on_mouseover_closure(tooltip));\n",
       "\n",
       "        var icon_img = document.createElement('img');\n",
       "        icon_img.src = '_images/' + image + '.png';\n",
       "        icon_img.srcset = '_images/' + image + '_large.png 2x';\n",
       "        icon_img.alt = tooltip;\n",
       "        button.appendChild(icon_img);\n",
       "\n",
       "        buttonGroup.appendChild(button);\n",
       "    }\n",
       "\n",
       "    if (buttonGroup.hasChildNodes()) {\n",
       "        toolbar.appendChild(buttonGroup);\n",
       "    }\n",
       "\n",
       "    var fmt_picker = document.createElement('select');\n",
       "    fmt_picker.classList = 'mpl-widget';\n",
       "    toolbar.appendChild(fmt_picker);\n",
       "    this.format_dropdown = fmt_picker;\n",
       "\n",
       "    for (var ind in mpl.extensions) {\n",
       "        var fmt = mpl.extensions[ind];\n",
       "        var option = document.createElement('option');\n",
       "        option.selected = fmt === mpl.default_extension;\n",
       "        option.innerHTML = fmt;\n",
       "        fmt_picker.appendChild(option);\n",
       "    }\n",
       "\n",
       "    var status_bar = document.createElement('span');\n",
       "    status_bar.classList = 'mpl-message';\n",
       "    toolbar.appendChild(status_bar);\n",
       "    this.message = status_bar;\n",
       "};\n",
       "\n",
       "mpl.figure.prototype.request_resize = function (x_pixels, y_pixels) {\n",
       "    // Request matplotlib to resize the figure. Matplotlib will then trigger a resize in the client,\n",
       "    // which will in turn request a refresh of the image.\n",
       "    this.send_message('resize', { width: x_pixels, height: y_pixels });\n",
       "};\n",
       "\n",
       "mpl.figure.prototype.send_message = function (type, properties) {\n",
       "    properties['type'] = type;\n",
       "    properties['figure_id'] = this.id;\n",
       "    this.ws.send(JSON.stringify(properties));\n",
       "};\n",
       "\n",
       "mpl.figure.prototype.send_draw_message = function () {\n",
       "    if (!this.waiting) {\n",
       "        this.waiting = true;\n",
       "        this.ws.send(JSON.stringify({ type: 'draw', figure_id: this.id }));\n",
       "    }\n",
       "};\n",
       "\n",
       "mpl.figure.prototype.handle_save = function (fig, _msg) {\n",
       "    var format_dropdown = fig.format_dropdown;\n",
       "    var format = format_dropdown.options[format_dropdown.selectedIndex].value;\n",
       "    fig.ondownload(fig, format);\n",
       "};\n",
       "\n",
       "mpl.figure.prototype.handle_resize = function (fig, msg) {\n",
       "    var size = msg['size'];\n",
       "    if (size[0] !== fig.canvas.width || size[1] !== fig.canvas.height) {\n",
       "        fig._resize_canvas(size[0], size[1], msg['forward']);\n",
       "        fig.send_message('refresh', {});\n",
       "    }\n",
       "};\n",
       "\n",
       "mpl.figure.prototype.handle_rubberband = function (fig, msg) {\n",
       "    var x0 = msg['x0'] / fig.ratio;\n",
       "    var y0 = (fig.canvas.height - msg['y0']) / fig.ratio;\n",
       "    var x1 = msg['x1'] / fig.ratio;\n",
       "    var y1 = (fig.canvas.height - msg['y1']) / fig.ratio;\n",
       "    x0 = Math.floor(x0) + 0.5;\n",
       "    y0 = Math.floor(y0) + 0.5;\n",
       "    x1 = Math.floor(x1) + 0.5;\n",
       "    y1 = Math.floor(y1) + 0.5;\n",
       "    var min_x = Math.min(x0, x1);\n",
       "    var min_y = Math.min(y0, y1);\n",
       "    var width = Math.abs(x1 - x0);\n",
       "    var height = Math.abs(y1 - y0);\n",
       "\n",
       "    fig.rubberband_context.clearRect(\n",
       "        0,\n",
       "        0,\n",
       "        fig.canvas.width / fig.ratio,\n",
       "        fig.canvas.height / fig.ratio\n",
       "    );\n",
       "\n",
       "    fig.rubberband_context.strokeRect(min_x, min_y, width, height);\n",
       "};\n",
       "\n",
       "mpl.figure.prototype.handle_figure_label = function (fig, msg) {\n",
       "    // Updates the figure title.\n",
       "    fig.header.textContent = msg['label'];\n",
       "};\n",
       "\n",
       "mpl.figure.prototype.handle_cursor = function (fig, msg) {\n",
       "    fig.rubberband_canvas.style.cursor = msg['cursor'];\n",
       "};\n",
       "\n",
       "mpl.figure.prototype.handle_message = function (fig, msg) {\n",
       "    fig.message.textContent = msg['message'];\n",
       "};\n",
       "\n",
       "mpl.figure.prototype.handle_draw = function (fig, _msg) {\n",
       "    // Request the server to send over a new figure.\n",
       "    fig.send_draw_message();\n",
       "};\n",
       "\n",
       "mpl.figure.prototype.handle_image_mode = function (fig, msg) {\n",
       "    fig.image_mode = msg['mode'];\n",
       "};\n",
       "\n",
       "mpl.figure.prototype.handle_history_buttons = function (fig, msg) {\n",
       "    for (var key in msg) {\n",
       "        if (!(key in fig.buttons)) {\n",
       "            continue;\n",
       "        }\n",
       "        fig.buttons[key].disabled = !msg[key];\n",
       "        fig.buttons[key].setAttribute('aria-disabled', !msg[key]);\n",
       "    }\n",
       "};\n",
       "\n",
       "mpl.figure.prototype.handle_navigate_mode = function (fig, msg) {\n",
       "    if (msg['mode'] === 'PAN') {\n",
       "        fig.buttons['Pan'].classList.add('active');\n",
       "        fig.buttons['Zoom'].classList.remove('active');\n",
       "    } else if (msg['mode'] === 'ZOOM') {\n",
       "        fig.buttons['Pan'].classList.remove('active');\n",
       "        fig.buttons['Zoom'].classList.add('active');\n",
       "    } else {\n",
       "        fig.buttons['Pan'].classList.remove('active');\n",
       "        fig.buttons['Zoom'].classList.remove('active');\n",
       "    }\n",
       "};\n",
       "\n",
       "mpl.figure.prototype.updated_canvas_event = function () {\n",
       "    // Called whenever the canvas gets updated.\n",
       "    this.send_message('ack', {});\n",
       "};\n",
       "\n",
       "// A function to construct a web socket function for onmessage handling.\n",
       "// Called in the figure constructor.\n",
       "mpl.figure.prototype._make_on_message_function = function (fig) {\n",
       "    return function socket_on_message(evt) {\n",
       "        if (evt.data instanceof Blob) {\n",
       "            var img = evt.data;\n",
       "            if (img.type !== 'image/png') {\n",
       "                /* FIXME: We get \"Resource interpreted as Image but\n",
       "                 * transferred with MIME type text/plain:\" errors on\n",
       "                 * Chrome.  But how to set the MIME type?  It doesn't seem\n",
       "                 * to be part of the websocket stream */\n",
       "                img.type = 'image/png';\n",
       "            }\n",
       "\n",
       "            /* Free the memory for the previous frames */\n",
       "            if (fig.imageObj.src) {\n",
       "                (window.URL || window.webkitURL).revokeObjectURL(\n",
       "                    fig.imageObj.src\n",
       "                );\n",
       "            }\n",
       "\n",
       "            fig.imageObj.src = (window.URL || window.webkitURL).createObjectURL(\n",
       "                img\n",
       "            );\n",
       "            fig.updated_canvas_event();\n",
       "            fig.waiting = false;\n",
       "            return;\n",
       "        } else if (\n",
       "            typeof evt.data === 'string' &&\n",
       "            evt.data.slice(0, 21) === 'data:image/png;base64'\n",
       "        ) {\n",
       "            fig.imageObj.src = evt.data;\n",
       "            fig.updated_canvas_event();\n",
       "            fig.waiting = false;\n",
       "            return;\n",
       "        }\n",
       "\n",
       "        var msg = JSON.parse(evt.data);\n",
       "        var msg_type = msg['type'];\n",
       "\n",
       "        // Call the  \"handle_{type}\" callback, which takes\n",
       "        // the figure and JSON message as its only arguments.\n",
       "        try {\n",
       "            var callback = fig['handle_' + msg_type];\n",
       "        } catch (e) {\n",
       "            console.log(\n",
       "                \"No handler for the '\" + msg_type + \"' message type: \",\n",
       "                msg\n",
       "            );\n",
       "            return;\n",
       "        }\n",
       "\n",
       "        if (callback) {\n",
       "            try {\n",
       "                // console.log(\"Handling '\" + msg_type + \"' message: \", msg);\n",
       "                callback(fig, msg);\n",
       "            } catch (e) {\n",
       "                console.log(\n",
       "                    \"Exception inside the 'handler_\" + msg_type + \"' callback:\",\n",
       "                    e,\n",
       "                    e.stack,\n",
       "                    msg\n",
       "                );\n",
       "            }\n",
       "        }\n",
       "    };\n",
       "};\n",
       "\n",
       "// from https://stackoverflow.com/questions/1114465/getting-mouse-location-in-canvas\n",
       "mpl.findpos = function (e) {\n",
       "    //this section is from http://www.quirksmode.org/js/events_properties.html\n",
       "    var targ;\n",
       "    if (!e) {\n",
       "        e = window.event;\n",
       "    }\n",
       "    if (e.target) {\n",
       "        targ = e.target;\n",
       "    } else if (e.srcElement) {\n",
       "        targ = e.srcElement;\n",
       "    }\n",
       "    if (targ.nodeType === 3) {\n",
       "        // defeat Safari bug\n",
       "        targ = targ.parentNode;\n",
       "    }\n",
       "\n",
       "    // pageX,Y are the mouse positions relative to the document\n",
       "    var boundingRect = targ.getBoundingClientRect();\n",
       "    var x = e.pageX - (boundingRect.left + document.body.scrollLeft);\n",
       "    var y = e.pageY - (boundingRect.top + document.body.scrollTop);\n",
       "\n",
       "    return { x: x, y: y };\n",
       "};\n",
       "\n",
       "/*\n",
       " * return a copy of an object with only non-object keys\n",
       " * we need this to avoid circular references\n",
       " * https://stackoverflow.com/a/24161582/3208463\n",
       " */\n",
       "function simpleKeys(original) {\n",
       "    return Object.keys(original).reduce(function (obj, key) {\n",
       "        if (typeof original[key] !== 'object') {\n",
       "            obj[key] = original[key];\n",
       "        }\n",
       "        return obj;\n",
       "    }, {});\n",
       "}\n",
       "\n",
       "mpl.figure.prototype.mouse_event = function (event, name) {\n",
       "    var canvas_pos = mpl.findpos(event);\n",
       "\n",
       "    if (name === 'button_press') {\n",
       "        this.canvas.focus();\n",
       "        this.canvas_div.focus();\n",
       "    }\n",
       "\n",
       "    var x = canvas_pos.x * this.ratio;\n",
       "    var y = canvas_pos.y * this.ratio;\n",
       "\n",
       "    this.send_message(name, {\n",
       "        x: x,\n",
       "        y: y,\n",
       "        button: event.button,\n",
       "        step: event.step,\n",
       "        guiEvent: simpleKeys(event),\n",
       "    });\n",
       "\n",
       "    /* This prevents the web browser from automatically changing to\n",
       "     * the text insertion cursor when the button is pressed.  We want\n",
       "     * to control all of the cursor setting manually through the\n",
       "     * 'cursor' event from matplotlib */\n",
       "    event.preventDefault();\n",
       "    return false;\n",
       "};\n",
       "\n",
       "mpl.figure.prototype._key_event_extra = function (_event, _name) {\n",
       "    // Handle any extra behaviour associated with a key event\n",
       "};\n",
       "\n",
       "mpl.figure.prototype.key_event = function (event, name) {\n",
       "    // Prevent repeat events\n",
       "    if (name === 'key_press') {\n",
       "        if (event.key === this._key) {\n",
       "            return;\n",
       "        } else {\n",
       "            this._key = event.key;\n",
       "        }\n",
       "    }\n",
       "    if (name === 'key_release') {\n",
       "        this._key = null;\n",
       "    }\n",
       "\n",
       "    var value = '';\n",
       "    if (event.ctrlKey && event.key !== 'Control') {\n",
       "        value += 'ctrl+';\n",
       "    }\n",
       "    else if (event.altKey && event.key !== 'Alt') {\n",
       "        value += 'alt+';\n",
       "    }\n",
       "    else if (event.shiftKey && event.key !== 'Shift') {\n",
       "        value += 'shift+';\n",
       "    }\n",
       "\n",
       "    value += 'k' + event.key;\n",
       "\n",
       "    this._key_event_extra(event, name);\n",
       "\n",
       "    this.send_message(name, { key: value, guiEvent: simpleKeys(event) });\n",
       "    return false;\n",
       "};\n",
       "\n",
       "mpl.figure.prototype.toolbar_button_onclick = function (name) {\n",
       "    if (name === 'download') {\n",
       "        this.handle_save(this, null);\n",
       "    } else {\n",
       "        this.send_message('toolbar_button', { name: name });\n",
       "    }\n",
       "};\n",
       "\n",
       "mpl.figure.prototype.toolbar_button_onmouseover = function (tooltip) {\n",
       "    this.message.textContent = tooltip;\n",
       "};\n",
       "\n",
       "///////////////// REMAINING CONTENT GENERATED BY embed_js.py /////////////////\n",
       "// prettier-ignore\n",
       "var _JSXTOOLS_RESIZE_OBSERVER=function(A){var t,i=new WeakMap,n=new WeakMap,a=new WeakMap,r=new WeakMap,o=new Set;function s(e){if(!(this instanceof s))throw new TypeError(\"Constructor requires 'new' operator\");i.set(this,e)}function h(){throw new TypeError(\"Function is not a constructor\")}function c(e,t,i,n){e=0 in arguments?Number(arguments[0]):0,t=1 in arguments?Number(arguments[1]):0,i=2 in arguments?Number(arguments[2]):0,n=3 in arguments?Number(arguments[3]):0,this.right=(this.x=this.left=e)+(this.width=i),this.bottom=(this.y=this.top=t)+(this.height=n),Object.freeze(this)}function d(){t=requestAnimationFrame(d);var s=new WeakMap,p=new Set;o.forEach((function(t){r.get(t).forEach((function(i){var r=t instanceof window.SVGElement,o=a.get(t),d=r?0:parseFloat(o.paddingTop),f=r?0:parseFloat(o.paddingRight),l=r?0:parseFloat(o.paddingBottom),u=r?0:parseFloat(o.paddingLeft),g=r?0:parseFloat(o.borderTopWidth),m=r?0:parseFloat(o.borderRightWidth),w=r?0:parseFloat(o.borderBottomWidth),b=u+f,F=d+l,v=(r?0:parseFloat(o.borderLeftWidth))+m,W=g+w,y=r?0:t.offsetHeight-W-t.clientHeight,E=r?0:t.offsetWidth-v-t.clientWidth,R=b+v,z=F+W,M=r?t.width:parseFloat(o.width)-R-E,O=r?t.height:parseFloat(o.height)-z-y;if(n.has(t)){var k=n.get(t);if(k[0]===M&&k[1]===O)return}n.set(t,[M,O]);var S=Object.create(h.prototype);S.target=t,S.contentRect=new c(u,d,M,O),s.has(i)||(s.set(i,[]),p.add(i)),s.get(i).push(S)}))})),p.forEach((function(e){i.get(e).call(e,s.get(e),e)}))}return s.prototype.observe=function(i){if(i instanceof window.Element){r.has(i)||(r.set(i,new Set),o.add(i),a.set(i,window.getComputedStyle(i)));var n=r.get(i);n.has(this)||n.add(this),cancelAnimationFrame(t),t=requestAnimationFrame(d)}},s.prototype.unobserve=function(i){if(i instanceof window.Element&&r.has(i)){var n=r.get(i);n.has(this)&&(n.delete(this),n.size||(r.delete(i),o.delete(i))),n.size||r.delete(i),o.size||cancelAnimationFrame(t)}},A.DOMRectReadOnly=c,A.ResizeObserver=s,A.ResizeObserverEntry=h,A}; // eslint-disable-line\n",
       "mpl.toolbar_items = [[\"Home\", \"Reset original view\", \"fa fa-home icon-home\", \"home\"], [\"Back\", \"Back to previous view\", \"fa fa-arrow-left icon-arrow-left\", \"back\"], [\"Forward\", \"Forward to next view\", \"fa fa-arrow-right icon-arrow-right\", \"forward\"], [\"\", \"\", \"\", \"\"], [\"Pan\", \"Left button pans, Right button zooms\\nx/y fixes axis, CTRL fixes aspect\", \"fa fa-arrows icon-move\", \"pan\"], [\"Zoom\", \"Zoom to rectangle\\nx/y fixes axis\", \"fa fa-square-o icon-check-empty\", \"zoom\"], [\"\", \"\", \"\", \"\"], [\"Download\", \"Download plot\", \"fa fa-floppy-o icon-save\", \"download\"]];\n",
       "\n",
       "mpl.extensions = [\"eps\", \"jpeg\", \"pgf\", \"pdf\", \"png\", \"ps\", \"raw\", \"svg\", \"tif\"];\n",
       "\n",
       "mpl.default_extension = \"png\";/* global mpl */\n",
       "\n",
       "var comm_websocket_adapter = function (comm) {\n",
       "    // Create a \"websocket\"-like object which calls the given IPython comm\n",
       "    // object with the appropriate methods. Currently this is a non binary\n",
       "    // socket, so there is still some room for performance tuning.\n",
       "    var ws = {};\n",
       "\n",
       "    ws.binaryType = comm.kernel.ws.binaryType;\n",
       "    ws.readyState = comm.kernel.ws.readyState;\n",
       "    function updateReadyState(_event) {\n",
       "        if (comm.kernel.ws) {\n",
       "            ws.readyState = comm.kernel.ws.readyState;\n",
       "        } else {\n",
       "            ws.readyState = 3; // Closed state.\n",
       "        }\n",
       "    }\n",
       "    comm.kernel.ws.addEventListener('open', updateReadyState);\n",
       "    comm.kernel.ws.addEventListener('close', updateReadyState);\n",
       "    comm.kernel.ws.addEventListener('error', updateReadyState);\n",
       "\n",
       "    ws.close = function () {\n",
       "        comm.close();\n",
       "    };\n",
       "    ws.send = function (m) {\n",
       "        //console.log('sending', m);\n",
       "        comm.send(m);\n",
       "    };\n",
       "    // Register the callback with on_msg.\n",
       "    comm.on_msg(function (msg) {\n",
       "        //console.log('receiving', msg['content']['data'], msg);\n",
       "        var data = msg['content']['data'];\n",
       "        if (data['blob'] !== undefined) {\n",
       "            data = {\n",
       "                data: new Blob(msg['buffers'], { type: data['blob'] }),\n",
       "            };\n",
       "        }\n",
       "        // Pass the mpl event to the overridden (by mpl) onmessage function.\n",
       "        ws.onmessage(data);\n",
       "    });\n",
       "    return ws;\n",
       "};\n",
       "\n",
       "mpl.mpl_figure_comm = function (comm, msg) {\n",
       "    // This is the function which gets called when the mpl process\n",
       "    // starts-up an IPython Comm through the \"matplotlib\" channel.\n",
       "\n",
       "    var id = msg.content.data.id;\n",
       "    // Get hold of the div created by the display call when the Comm\n",
       "    // socket was opened in Python.\n",
       "    var element = document.getElementById(id);\n",
       "    var ws_proxy = comm_websocket_adapter(comm);\n",
       "\n",
       "    function ondownload(figure, _format) {\n",
       "        window.open(figure.canvas.toDataURL());\n",
       "    }\n",
       "\n",
       "    var fig = new mpl.figure(id, ws_proxy, ondownload, element);\n",
       "\n",
       "    // Call onopen now - mpl needs it, as it is assuming we've passed it a real\n",
       "    // web socket which is closed, not our websocket->open comm proxy.\n",
       "    ws_proxy.onopen();\n",
       "\n",
       "    fig.parent_element = element;\n",
       "    fig.cell_info = mpl.find_output_cell(\"<div id='\" + id + \"'></div>\");\n",
       "    if (!fig.cell_info) {\n",
       "        console.error('Failed to find cell for figure', id, fig);\n",
       "        return;\n",
       "    }\n",
       "    fig.cell_info[0].output_area.element.on(\n",
       "        'cleared',\n",
       "        { fig: fig },\n",
       "        fig._remove_fig_handler\n",
       "    );\n",
       "};\n",
       "\n",
       "mpl.figure.prototype.handle_close = function (fig, msg) {\n",
       "    var width = fig.canvas.width / fig.ratio;\n",
       "    fig.cell_info[0].output_area.element.off(\n",
       "        'cleared',\n",
       "        fig._remove_fig_handler\n",
       "    );\n",
       "    fig.resizeObserverInstance.unobserve(fig.canvas_div);\n",
       "\n",
       "    // Update the output cell to use the data from the current canvas.\n",
       "    fig.push_to_output();\n",
       "    var dataURL = fig.canvas.toDataURL();\n",
       "    // Re-enable the keyboard manager in IPython - without this line, in FF,\n",
       "    // the notebook keyboard shortcuts fail.\n",
       "    IPython.keyboard_manager.enable();\n",
       "    fig.parent_element.innerHTML =\n",
       "        '<img src=\"' + dataURL + '\" width=\"' + width + '\">';\n",
       "    fig.close_ws(fig, msg);\n",
       "};\n",
       "\n",
       "mpl.figure.prototype.close_ws = function (fig, msg) {\n",
       "    fig.send_message('closing', msg);\n",
       "    // fig.ws.close()\n",
       "};\n",
       "\n",
       "mpl.figure.prototype.push_to_output = function (_remove_interactive) {\n",
       "    // Turn the data on the canvas into data in the output cell.\n",
       "    var width = this.canvas.width / this.ratio;\n",
       "    var dataURL = this.canvas.toDataURL();\n",
       "    this.cell_info[1]['text/html'] =\n",
       "        '<img src=\"' + dataURL + '\" width=\"' + width + '\">';\n",
       "};\n",
       "\n",
       "mpl.figure.prototype.updated_canvas_event = function () {\n",
       "    // Tell IPython that the notebook contents must change.\n",
       "    IPython.notebook.set_dirty(true);\n",
       "    this.send_message('ack', {});\n",
       "    var fig = this;\n",
       "    // Wait a second, then push the new image to the DOM so\n",
       "    // that it is saved nicely (might be nice to debounce this).\n",
       "    setTimeout(function () {\n",
       "        fig.push_to_output();\n",
       "    }, 1000);\n",
       "};\n",
       "\n",
       "mpl.figure.prototype._init_toolbar = function () {\n",
       "    var fig = this;\n",
       "\n",
       "    var toolbar = document.createElement('div');\n",
       "    toolbar.classList = 'btn-toolbar';\n",
       "    this.root.appendChild(toolbar);\n",
       "\n",
       "    function on_click_closure(name) {\n",
       "        return function (_event) {\n",
       "            return fig.toolbar_button_onclick(name);\n",
       "        };\n",
       "    }\n",
       "\n",
       "    function on_mouseover_closure(tooltip) {\n",
       "        return function (event) {\n",
       "            if (!event.currentTarget.disabled) {\n",
       "                return fig.toolbar_button_onmouseover(tooltip);\n",
       "            }\n",
       "        };\n",
       "    }\n",
       "\n",
       "    fig.buttons = {};\n",
       "    var buttonGroup = document.createElement('div');\n",
       "    buttonGroup.classList = 'btn-group';\n",
       "    var button;\n",
       "    for (var toolbar_ind in mpl.toolbar_items) {\n",
       "        var name = mpl.toolbar_items[toolbar_ind][0];\n",
       "        var tooltip = mpl.toolbar_items[toolbar_ind][1];\n",
       "        var image = mpl.toolbar_items[toolbar_ind][2];\n",
       "        var method_name = mpl.toolbar_items[toolbar_ind][3];\n",
       "\n",
       "        if (!name) {\n",
       "            /* Instead of a spacer, we start a new button group. */\n",
       "            if (buttonGroup.hasChildNodes()) {\n",
       "                toolbar.appendChild(buttonGroup);\n",
       "            }\n",
       "            buttonGroup = document.createElement('div');\n",
       "            buttonGroup.classList = 'btn-group';\n",
       "            continue;\n",
       "        }\n",
       "\n",
       "        button = fig.buttons[name] = document.createElement('button');\n",
       "        button.classList = 'btn btn-default';\n",
       "        button.href = '#';\n",
       "        button.title = name;\n",
       "        button.innerHTML = '<i class=\"fa ' + image + ' fa-lg\"></i>';\n",
       "        button.addEventListener('click', on_click_closure(method_name));\n",
       "        button.addEventListener('mouseover', on_mouseover_closure(tooltip));\n",
       "        buttonGroup.appendChild(button);\n",
       "    }\n",
       "\n",
       "    if (buttonGroup.hasChildNodes()) {\n",
       "        toolbar.appendChild(buttonGroup);\n",
       "    }\n",
       "\n",
       "    // Add the status bar.\n",
       "    var status_bar = document.createElement('span');\n",
       "    status_bar.classList = 'mpl-message pull-right';\n",
       "    toolbar.appendChild(status_bar);\n",
       "    this.message = status_bar;\n",
       "\n",
       "    // Add the close button to the window.\n",
       "    var buttongrp = document.createElement('div');\n",
       "    buttongrp.classList = 'btn-group inline pull-right';\n",
       "    button = document.createElement('button');\n",
       "    button.classList = 'btn btn-mini btn-primary';\n",
       "    button.href = '#';\n",
       "    button.title = 'Stop Interaction';\n",
       "    button.innerHTML = '<i class=\"fa fa-power-off icon-remove icon-large\"></i>';\n",
       "    button.addEventListener('click', function (_evt) {\n",
       "        fig.handle_close(fig, {});\n",
       "    });\n",
       "    button.addEventListener(\n",
       "        'mouseover',\n",
       "        on_mouseover_closure('Stop Interaction')\n",
       "    );\n",
       "    buttongrp.appendChild(button);\n",
       "    var titlebar = this.root.querySelector('.ui-dialog-titlebar');\n",
       "    titlebar.insertBefore(buttongrp, titlebar.firstChild);\n",
       "};\n",
       "\n",
       "mpl.figure.prototype._remove_fig_handler = function (event) {\n",
       "    var fig = event.data.fig;\n",
       "    if (event.target !== this) {\n",
       "        // Ignore bubbled events from children.\n",
       "        return;\n",
       "    }\n",
       "    fig.close_ws(fig, {});\n",
       "};\n",
       "\n",
       "mpl.figure.prototype._root_extra_style = function (el) {\n",
       "    el.style.boxSizing = 'content-box'; // override notebook setting of border-box.\n",
       "};\n",
       "\n",
       "mpl.figure.prototype._canvas_extra_style = function (el) {\n",
       "    // this is important to make the div 'focusable\n",
       "    el.setAttribute('tabindex', 0);\n",
       "    // reach out to IPython and tell the keyboard manager to turn it's self\n",
       "    // off when our div gets focus\n",
       "\n",
       "    // location in version 3\n",
       "    if (IPython.notebook.keyboard_manager) {\n",
       "        IPython.notebook.keyboard_manager.register_events(el);\n",
       "    } else {\n",
       "        // location in version 2\n",
       "        IPython.keyboard_manager.register_events(el);\n",
       "    }\n",
       "};\n",
       "\n",
       "mpl.figure.prototype._key_event_extra = function (event, _name) {\n",
       "    // Check for shift+enter\n",
       "    if (event.shiftKey && event.which === 13) {\n",
       "        this.canvas_div.blur();\n",
       "        // select the cell after this one\n",
       "        var index = IPython.notebook.find_cell_index(this.cell_info[0]);\n",
       "        IPython.notebook.select(index + 1);\n",
       "    }\n",
       "};\n",
       "\n",
       "mpl.figure.prototype.handle_save = function (fig, _msg) {\n",
       "    fig.ondownload(fig, null);\n",
       "};\n",
       "\n",
       "mpl.find_output_cell = function (html_output) {\n",
       "    // Return the cell and output element which can be found *uniquely* in the notebook.\n",
       "    // Note - this is a bit hacky, but it is done because the \"notebook_saving.Notebook\"\n",
       "    // IPython event is triggered only after the cells have been serialised, which for\n",
       "    // our purposes (turning an active figure into a static one), is too late.\n",
       "    var cells = IPython.notebook.get_cells();\n",
       "    var ncells = cells.length;\n",
       "    for (var i = 0; i < ncells; i++) {\n",
       "        var cell = cells[i];\n",
       "        if (cell.cell_type === 'code') {\n",
       "            for (var j = 0; j < cell.output_area.outputs.length; j++) {\n",
       "                var data = cell.output_area.outputs[j];\n",
       "                if (data.data) {\n",
       "                    // IPython >= 3 moved mimebundle to data attribute of output\n",
       "                    data = data.data;\n",
       "                }\n",
       "                if (data['text/html'] === html_output) {\n",
       "                    return [cell, data, j];\n",
       "                }\n",
       "            }\n",
       "        }\n",
       "    }\n",
       "};\n",
       "\n",
       "// Register the function which deals with the matplotlib target/channel.\n",
       "// The kernel may be null if the page has been refreshed.\n",
       "if (IPython.notebook.kernel !== null) {\n",
       "    IPython.notebook.kernel.comm_manager.register_target(\n",
       "        'matplotlib',\n",
       "        mpl.mpl_figure_comm\n",
       "    );\n",
       "}\n"
      ],
      "text/plain": [
       "<IPython.core.display.Javascript object>"
      ]
     },
     "metadata": {},
     "output_type": "display_data"
    },
    {
     "data": {
      "text/html": [
       "<img src=\"data:image/png;base64,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\" width=\"512\">"
      ],
      "text/plain": [
       "<IPython.core.display.HTML object>"
      ]
     },
     "metadata": {},
     "output_type": "display_data"
    }
   ],
   "source": [
    "%matplotlib notebook\n",
    "fig = g.plot(512, 512, frontend='matplotlib')"
   ]
  }
 ],
 "metadata": {
  "kernelspec": {
   "display_name": "Python 3 (ipykernel)",
   "language": "python",
   "name": "python3"
  },
  "language_info": {
   "codemirror_mode": {
    "name": "ipython",
    "version": 3
   },
   "file_extension": ".py",
   "mimetype": "text/x-python",
   "name": "python",
   "nbconvert_exporter": "python",
   "pygments_lexer": "ipython3",
   "version": "3.10.4"
  }
 },
 "nbformat": 4,
 "nbformat_minor": 5
}
