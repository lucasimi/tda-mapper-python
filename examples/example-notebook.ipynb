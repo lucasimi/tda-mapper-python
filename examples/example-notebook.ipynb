{
 "cells": [
  {
   "cell_type": "code",
   "execution_count": 10,
   "id": "50604595",
   "metadata": {},
   "outputs": [],
   "source": [
    "import numpy as np\n",
    "from sklearn.cluster import DBSCAN\n",
    "\n",
    "from mapper.cover import CoverGraph\n",
    "from mapper.search import BallSearch\n",
    "from mapper.pipeline import MapperPipeline\n",
    "from mapper.plot import MapperPlot\n",
    "\n",
    "import matplotlib.pyplot as plt\n",
    "\n",
    "\n",
    "mp = MapperPipeline(\n",
    "    search_algo=BallSearch(\n",
    "        1.5,\n",
    "        metric=lambda x, y: np.linalg.norm(x - y)\n",
    "    ),\n",
    "    #clustering_algo=DBSCAN(eps=1.5, min_samples=2)\n",
    ")\n",
    "\n",
    "data = [np.random.rand(10) for _ in range(100)]\n",
    "g = mp.fit(data)\n",
    "mp = MapperPlot(g)"
   ]
  },
  {
   "cell_type": "code",
   "execution_count": 11,
   "id": "434ea1cf",
   "metadata": {},
   "outputs": [
    {
     "data": {
      "application/vnd.plotly.v1+json": {
       "config": {
        "plotlyServerURL": "https://plot.ly"
       },
       "data": [
        {
         "hoverinfo": "none",
         "line": {
          "color": "#777",
          "width": 0.75
         },
         "mode": "lines",
         "opacity": 0.85,
         "type": "scatter",
         "x": [
          0.556270114753931,
          0.4365768600347962,
          null,
          0.4365768600347962,
          0.2672705923679132,
          null,
          0.2672705923679132,
          0.08100234604793981,
          null,
          0.08100234604793981,
          -0.11610753154435446,
          null,
          -0.11610753154435446,
          -0.3197357064700479,
          null,
          -0.3197357064700479,
          -0.5067445792372527,
          null,
          -0.5067445792372527,
          -0.6724970526963192,
          null,
          -0.6724970526963192,
          -0.8111391612681205,
          null,
          -0.8111391612681205,
          -0.9174841180727856,
          null,
          -0.9174841180727856,
          -0.9846761429384758,
          null,
          -0.9846761429384758,
          -1,
          null,
          -1,
          -0.9444778051125096,
          null,
          -0.9444778051125096,
          -0.8258338628557831,
          null,
          -0.8258338628557831,
          -0.6777142040281972,
          null,
          -0.6777142040281972,
          -0.513451314774535,
          null,
          -0.513451314774535,
          -0.3403009430719632,
          null,
          -0.3403009430719632,
          -0.1603017558411575,
          null,
          -0.1603017558411575,
          0.025631261084403428,
          null,
          0.025631261084403428,
          0.18197682176621782,
          null,
          0.18197682176621782,
          0.298680261407528,
          null,
          0.298680261407528,
          0.36713052111203853,
          null,
          0.36713052111203853,
          0.3828881180008763,
          null,
          0.3828881180008763,
          0.33067587266599113,
          null,
          0.33067587266599113,
          0.234927160521679,
          null,
          0.234927160521679,
          0.12174093401132675,
          null,
          0.12174093401132675,
          0.040994413381161846,
          null,
          0.040994413381161846,
          -0.0038664941729121983,
          null,
          -0.0038664941729121983,
          -0.025687257909304345,
          null,
          -0.025687257909304345,
          -0.035933595905300326,
          null,
          -0.035933595905300326,
          -0.04080525113595352,
          null,
          -0.04080525113595352,
          -0.058762594204562146,
          null,
          -0.058762594204562146,
          -0.09927699877727307,
          null,
          -0.09927699877727307,
          -0.15259057032229167,
          null,
          -0.15259057032229167,
          -0.2003283986291045,
          null,
          -0.2003283986291045,
          -0.22464633030107087,
          null,
          -0.22464633030107087,
          -0.2083191557856718,
          null,
          -0.2083191557856718,
          -0.12763832306816533,
          null,
          -0.12763832306816533,
          0.003918040574540246,
          null,
          0.003918040574540246,
          0.1394093756547066,
          null,
          0.1394093756547066,
          0.2688452791182312,
          null,
          0.2688452791182312,
          0.39171585553181515,
          null,
          0.39171585553181515,
          0.5037059823716434,
          null,
          0.5037059823716434,
          0.6053686101298128,
          null,
          0.6053686101298128,
          0.6918054005475005,
          null,
          0.6918054005475005,
          0.7611862053782132,
          null,
          0.7611862053782132,
          0.8112207478809764,
          null,
          0.8112207478809764,
          0.8379731326064287,
          null,
          0.8379731326064287,
          0.8355089690784998,
          null,
          0.8355089690784998,
          0.7918962720949385,
          null
         ],
         "y": [
          -0.7283814159338657,
          -0.6836721530819768,
          null,
          -0.6836721530819768,
          -0.624858496235641,
          null,
          -0.624858496235641,
          -0.5728041792942569,
          null,
          -0.5728041792942569,
          -0.5145356057273275,
          null,
          -0.5145356057273275,
          -0.44681648932762413,
          null,
          -0.44681648932762413,
          -0.36719836871441425,
          null,
          -0.36719836871441425,
          -0.2702617237674646,
          null,
          -0.2702617237674646,
          -0.15396298480667428,
          null,
          -0.15396298480667428,
          -0.02195867080628589,
          null,
          -0.02195867080628589,
          0.11977546678063866,
          null,
          0.11977546678063866,
          0.26202113044527137,
          null,
          0.26202113044527137,
          0.383953229679071,
          null,
          0.383953229679071,
          0.454570355003825,
          null,
          0.454570355003825,
          0.4715281176180199,
          null,
          0.4715281176180199,
          0.4491491363415622,
          null,
          0.4491491363415622,
          0.4076646556352489,
          null,
          0.4076646556352489,
          0.3725302628139959,
          null,
          0.3725302628139959,
          0.3662237588750035,
          null,
          0.3662237588750035,
          0.4182984811747393,
          null,
          0.4182984811747393,
          0.5157060565260615,
          null,
          0.5157060565260615,
          0.641373827402586,
          null,
          0.641373827402586,
          0.768330447048428,
          null,
          0.768330447048428,
          0.8705689325833863,
          null,
          0.8705689325833863,
          0.937127719983357,
          null,
          0.937127719983357,
          0.9074535743301541,
          null,
          0.9074535743301541,
          0.8025984374363686,
          null,
          0.8025984374363686,
          0.6556484537015795,
          null,
          0.6556484537015795,
          0.48717552477630066,
          null,
          0.48717552477630066,
          0.30192924242531216,
          null,
          0.30192924242531216,
          0.12268763270356463,
          null,
          0.12268763270356463,
          -0.05104372942847858,
          null,
          -0.05104372942847858,
          -0.22282779848910964,
          null,
          -0.22282779848910964,
          -0.39648771944424127,
          null,
          -0.39648771944424127,
          -0.573298166663492,
          null,
          -0.573298166663492,
          -0.7374442758043883,
          null,
          -0.7374442758043883,
          -0.8764710803952627,
          null,
          -0.8764710803952627,
          -0.9778890945086247,
          null,
          -0.9778890945086247,
          -0.9975672791831015,
          null,
          -0.9975672791831015,
          -0.9346098581366824,
          null,
          -0.9346098581366824,
          -0.820861509807282,
          null,
          -0.820861509807282,
          -0.6687487256487943,
          null,
          -0.6687487256487943,
          -0.4977176981103995,
          null,
          -0.4977176981103995,
          -0.32171529500789475,
          null,
          -0.32171529500789475,
          -0.14110321435587012,
          null,
          -0.14110321435587012,
          0.04129959322807405,
          null,
          0.04129959322807405,
          0.22151777454961585,
          null,
          0.22151777454961585,
          0.39428165183027963,
          null,
          0.39428165183027963,
          0.5514438996867977,
          null,
          0.5514438996867977,
          0.6773781700999122,
          null
         ]
        },
        {
         "hoverinfo": "text",
         "marker": {
          "cmax": 0.6144855037688667,
          "cmin": 0.3608057930954537,
          "color": [
           0.5115609534871411,
           0.43035170445835397,
           0.529534122986905,
           0.5655979408475683,
           0.5561981016589592,
           0.5030193632438044,
           0.5481844543900566,
           0.5029016781675952,
           0.44786195897095576,
           0.535116192161383,
           0.5139200675801128,
           0.5892619971030687,
           0.6144855037688667,
           0.5955414091951297,
           0.5018089465350609,
           0.5858479780635322,
           0.5692184029256129,
           0.585710086624971,
           0.5388033328092425,
           0.470025788845591,
           0.5241729306853083,
           0.4481834950099243,
           0.5093809690257547,
           0.5005406412565983,
           0.5189217981225392,
           0.45917652753656363,
           0.4246098704460832,
           0.5149512084698663,
           0.4866805787485937,
           0.448634601360733,
           0.45934144278946115,
           0.49678933728606955,
           0.3608057930954537,
           0.48991658986948905,
           0.5161855760176433,
           0.5077476426027767,
           0.581010076200112,
           0.5476751009276636,
           0.5415282736496264,
           0.5190940164716018,
           0.4622538361828526,
           0.5530087438628831,
           0.5155295547749972,
           0.46094371401158113,
           0.4183799391931688,
           0.5486592668283496,
           0.5359818222062608,
           0.5671010816548847,
           0.49136823711398847,
           0.5063075496299122
          ],
          "colorbar": {
           "borderwidth": 0,
           "orientation": "v",
           "outlinewidth": 0,
           "thickness": 0.025,
           "thicknessmode": "fraction",
           "title": {
            "side": "right",
            "text": "mean lens"
           },
           "xanchor": "left",
           "ypad": 0
          },
          "colorscale": [
           [
            0,
            "#440154"
           ],
           [
            0.1111111111111111,
            "#482878"
           ],
           [
            0.2222222222222222,
            "#3e4989"
           ],
           [
            0.3333333333333333,
            "#31688e"
           ],
           [
            0.4444444444444444,
            "#26828e"
           ],
           [
            0.5555555555555556,
            "#1f9e89"
           ],
           [
            0.6666666666666666,
            "#35b779"
           ],
           [
            0.7777777777777778,
            "#6ece58"
           ],
           [
            0.8888888888888888,
            "#b5de2b"
           ],
           [
            1,
            "#fde725"
           ]
          ],
          "line": {
           "color": "#777",
           "width": 0.7
          },
          "opacity": 0.85,
          "reversescale": false,
          "showscale": true,
          "size": [
           20.41241452319315,
           25,
           25,
           25,
           25,
           25,
           25,
           25,
           25,
           25,
           25,
           25,
           25,
           25,
           25,
           25,
           25,
           25,
           25,
           25,
           25,
           25,
           25,
           25,
           25,
           25,
           25,
           25,
           25,
           25,
           25,
           25,
           25,
           25,
           25,
           25,
           25,
           25,
           25,
           25,
           25,
           25,
           25,
           25,
           25,
           25,
           25,
           25,
           25,
           25
          ]
         },
         "mode": "markers",
         "opacity": 1,
         "text": [
          "size: 2.00e+00, color: 5.12e-01",
          "size: 3.00e+00, color: 4.30e-01",
          "size: 3.00e+00, color: 5.30e-01",
          "size: 3.00e+00, color: 5.66e-01",
          "size: 3.00e+00, color: 5.56e-01",
          "size: 3.00e+00, color: 5.03e-01",
          "size: 3.00e+00, color: 5.48e-01",
          "size: 3.00e+00, color: 5.03e-01",
          "size: 3.00e+00, color: 4.48e-01",
          "size: 3.00e+00, color: 5.35e-01",
          "size: 3.00e+00, color: 5.14e-01",
          "size: 3.00e+00, color: 5.89e-01",
          "size: 3.00e+00, color: 6.14e-01",
          "size: 3.00e+00, color: 5.96e-01",
          "size: 3.00e+00, color: 5.02e-01",
          "size: 3.00e+00, color: 5.86e-01",
          "size: 3.00e+00, color: 5.69e-01",
          "size: 3.00e+00, color: 5.86e-01",
          "size: 3.00e+00, color: 5.39e-01",
          "size: 3.00e+00, color: 4.70e-01",
          "size: 3.00e+00, color: 5.24e-01",
          "size: 3.00e+00, color: 4.48e-01",
          "size: 3.00e+00, color: 5.09e-01",
          "size: 3.00e+00, color: 5.01e-01",
          "size: 3.00e+00, color: 5.19e-01",
          "size: 3.00e+00, color: 4.59e-01",
          "size: 3.00e+00, color: 4.25e-01",
          "size: 3.00e+00, color: 5.15e-01",
          "size: 3.00e+00, color: 4.87e-01",
          "size: 3.00e+00, color: 4.49e-01",
          "size: 3.00e+00, color: 4.59e-01",
          "size: 3.00e+00, color: 4.97e-01",
          "size: 3.00e+00, color: 3.61e-01",
          "size: 3.00e+00, color: 4.90e-01",
          "size: 3.00e+00, color: 5.16e-01",
          "size: 3.00e+00, color: 5.08e-01",
          "size: 3.00e+00, color: 5.81e-01",
          "size: 3.00e+00, color: 5.48e-01",
          "size: 3.00e+00, color: 5.42e-01",
          "size: 3.00e+00, color: 5.19e-01",
          "size: 3.00e+00, color: 4.62e-01",
          "size: 3.00e+00, color: 5.53e-01",
          "size: 3.00e+00, color: 5.16e-01",
          "size: 3.00e+00, color: 4.61e-01",
          "size: 3.00e+00, color: 4.18e-01",
          "size: 3.00e+00, color: 5.49e-01",
          "size: 3.00e+00, color: 5.36e-01",
          "size: 3.00e+00, color: 5.67e-01",
          "size: 3.00e+00, color: 4.91e-01",
          "size: 3.00e+00, color: 5.06e-01"
         ],
         "type": "scatter",
         "x": [
          0.556270114753931,
          0.4365768600347962,
          0.2672705923679132,
          0.08100234604793981,
          -0.11610753154435446,
          -0.3197357064700479,
          -0.5067445792372527,
          -0.6724970526963192,
          -0.8111391612681205,
          -0.9174841180727856,
          -0.9846761429384758,
          -1,
          -0.9444778051125096,
          -0.8258338628557831,
          -0.6777142040281972,
          -0.513451314774535,
          -0.3403009430719632,
          -0.1603017558411575,
          0.025631261084403428,
          0.18197682176621782,
          0.298680261407528,
          0.36713052111203853,
          0.3828881180008763,
          0.33067587266599113,
          0.234927160521679,
          0.12174093401132675,
          0.040994413381161846,
          -0.0038664941729121983,
          -0.025687257909304345,
          -0.035933595905300326,
          -0.04080525113595352,
          -0.058762594204562146,
          -0.09927699877727307,
          -0.15259057032229167,
          -0.2003283986291045,
          -0.22464633030107087,
          -0.2083191557856718,
          -0.12763832306816533,
          0.003918040574540246,
          0.1394093756547066,
          0.2688452791182312,
          0.39171585553181515,
          0.5037059823716434,
          0.6053686101298128,
          0.6918054005475005,
          0.7611862053782132,
          0.8112207478809764,
          0.8379731326064287,
          0.8355089690784998,
          0.7918962720949385
         ],
         "y": [
          -0.7283814159338657,
          -0.6836721530819768,
          -0.624858496235641,
          -0.5728041792942569,
          -0.5145356057273275,
          -0.44681648932762413,
          -0.36719836871441425,
          -0.2702617237674646,
          -0.15396298480667428,
          -0.02195867080628589,
          0.11977546678063866,
          0.26202113044527137,
          0.383953229679071,
          0.454570355003825,
          0.4715281176180199,
          0.4491491363415622,
          0.4076646556352489,
          0.3725302628139959,
          0.3662237588750035,
          0.4182984811747393,
          0.5157060565260615,
          0.641373827402586,
          0.768330447048428,
          0.8705689325833863,
          0.937127719983357,
          0.9074535743301541,
          0.8025984374363686,
          0.6556484537015795,
          0.48717552477630066,
          0.30192924242531216,
          0.12268763270356463,
          -0.05104372942847858,
          -0.22282779848910964,
          -0.39648771944424127,
          -0.573298166663492,
          -0.7374442758043883,
          -0.8764710803952627,
          -0.9778890945086247,
          -0.9975672791831015,
          -0.9346098581366824,
          -0.820861509807282,
          -0.6687487256487943,
          -0.4977176981103995,
          -0.32171529500789475,
          -0.14110321435587012,
          0.04129959322807405,
          0.22151777454961585,
          0.39428165183027963,
          0.5514438996867977,
          0.6773781700999122
         ]
        }
       ],
       "layout": {
        "annotations": [
         {
          "showarrow": false,
          "text": "",
          "x": 0,
          "xref": "paper",
          "y": 0,
          "yref": "paper"
         }
        ],
        "autosize": false,
        "height": 512,
        "hovermode": "closest",
        "margin": {
         "b": 0,
         "l": 0,
         "r": 0,
         "t": 0
        },
        "plot_bgcolor": "rgba(0, 0, 0, 0)",
        "scene": {
         "xaxis": {
          "showbackground": false,
          "showgrid": false,
          "showline": false,
          "showticklabels": false,
          "title": {
           "text": "mean lens"
          },
          "zeroline": false
         },
         "yaxis": {
          "showbackground": false,
          "showgrid": false,
          "showline": false,
          "showticklabels": false,
          "title": {
           "text": "mean lens"
          },
          "zeroline": false
         }
        },
        "showlegend": false,
        "template": {
         "data": {
          "bar": [
           {
            "error_x": {
             "color": "#2a3f5f"
            },
            "error_y": {
             "color": "#2a3f5f"
            },
            "marker": {
             "line": {
              "color": "#E5ECF6",
              "width": 0.5
             },
             "pattern": {
              "fillmode": "overlay",
              "size": 10,
              "solidity": 0.2
             }
            },
            "type": "bar"
           }
          ],
          "barpolar": [
           {
            "marker": {
             "line": {
              "color": "#E5ECF6",
              "width": 0.5
             },
             "pattern": {
              "fillmode": "overlay",
              "size": 10,
              "solidity": 0.2
             }
            },
            "type": "barpolar"
           }
          ],
          "carpet": [
           {
            "aaxis": {
             "endlinecolor": "#2a3f5f",
             "gridcolor": "white",
             "linecolor": "white",
             "minorgridcolor": "white",
             "startlinecolor": "#2a3f5f"
            },
            "baxis": {
             "endlinecolor": "#2a3f5f",
             "gridcolor": "white",
             "linecolor": "white",
             "minorgridcolor": "white",
             "startlinecolor": "#2a3f5f"
            },
            "type": "carpet"
           }
          ],
          "choropleth": [
           {
            "colorbar": {
             "outlinewidth": 0,
             "ticks": ""
            },
            "type": "choropleth"
           }
          ],
          "contour": [
           {
            "colorbar": {
             "outlinewidth": 0,
             "ticks": ""
            },
            "colorscale": [
             [
              0,
              "#0d0887"
             ],
             [
              0.1111111111111111,
              "#46039f"
             ],
             [
              0.2222222222222222,
              "#7201a8"
             ],
             [
              0.3333333333333333,
              "#9c179e"
             ],
             [
              0.4444444444444444,
              "#bd3786"
             ],
             [
              0.5555555555555556,
              "#d8576b"
             ],
             [
              0.6666666666666666,
              "#ed7953"
             ],
             [
              0.7777777777777778,
              "#fb9f3a"
             ],
             [
              0.8888888888888888,
              "#fdca26"
             ],
             [
              1,
              "#f0f921"
             ]
            ],
            "type": "contour"
           }
          ],
          "contourcarpet": [
           {
            "colorbar": {
             "outlinewidth": 0,
             "ticks": ""
            },
            "type": "contourcarpet"
           }
          ],
          "heatmap": [
           {
            "colorbar": {
             "outlinewidth": 0,
             "ticks": ""
            },
            "colorscale": [
             [
              0,
              "#0d0887"
             ],
             [
              0.1111111111111111,
              "#46039f"
             ],
             [
              0.2222222222222222,
              "#7201a8"
             ],
             [
              0.3333333333333333,
              "#9c179e"
             ],
             [
              0.4444444444444444,
              "#bd3786"
             ],
             [
              0.5555555555555556,
              "#d8576b"
             ],
             [
              0.6666666666666666,
              "#ed7953"
             ],
             [
              0.7777777777777778,
              "#fb9f3a"
             ],
             [
              0.8888888888888888,
              "#fdca26"
             ],
             [
              1,
              "#f0f921"
             ]
            ],
            "type": "heatmap"
           }
          ],
          "heatmapgl": [
           {
            "colorbar": {
             "outlinewidth": 0,
             "ticks": ""
            },
            "colorscale": [
             [
              0,
              "#0d0887"
             ],
             [
              0.1111111111111111,
              "#46039f"
             ],
             [
              0.2222222222222222,
              "#7201a8"
             ],
             [
              0.3333333333333333,
              "#9c179e"
             ],
             [
              0.4444444444444444,
              "#bd3786"
             ],
             [
              0.5555555555555556,
              "#d8576b"
             ],
             [
              0.6666666666666666,
              "#ed7953"
             ],
             [
              0.7777777777777778,
              "#fb9f3a"
             ],
             [
              0.8888888888888888,
              "#fdca26"
             ],
             [
              1,
              "#f0f921"
             ]
            ],
            "type": "heatmapgl"
           }
          ],
          "histogram": [
           {
            "marker": {
             "pattern": {
              "fillmode": "overlay",
              "size": 10,
              "solidity": 0.2
             }
            },
            "type": "histogram"
           }
          ],
          "histogram2d": [
           {
            "colorbar": {
             "outlinewidth": 0,
             "ticks": ""
            },
            "colorscale": [
             [
              0,
              "#0d0887"
             ],
             [
              0.1111111111111111,
              "#46039f"
             ],
             [
              0.2222222222222222,
              "#7201a8"
             ],
             [
              0.3333333333333333,
              "#9c179e"
             ],
             [
              0.4444444444444444,
              "#bd3786"
             ],
             [
              0.5555555555555556,
              "#d8576b"
             ],
             [
              0.6666666666666666,
              "#ed7953"
             ],
             [
              0.7777777777777778,
              "#fb9f3a"
             ],
             [
              0.8888888888888888,
              "#fdca26"
             ],
             [
              1,
              "#f0f921"
             ]
            ],
            "type": "histogram2d"
           }
          ],
          "histogram2dcontour": [
           {
            "colorbar": {
             "outlinewidth": 0,
             "ticks": ""
            },
            "colorscale": [
             [
              0,
              "#0d0887"
             ],
             [
              0.1111111111111111,
              "#46039f"
             ],
             [
              0.2222222222222222,
              "#7201a8"
             ],
             [
              0.3333333333333333,
              "#9c179e"
             ],
             [
              0.4444444444444444,
              "#bd3786"
             ],
             [
              0.5555555555555556,
              "#d8576b"
             ],
             [
              0.6666666666666666,
              "#ed7953"
             ],
             [
              0.7777777777777778,
              "#fb9f3a"
             ],
             [
              0.8888888888888888,
              "#fdca26"
             ],
             [
              1,
              "#f0f921"
             ]
            ],
            "type": "histogram2dcontour"
           }
          ],
          "mesh3d": [
           {
            "colorbar": {
             "outlinewidth": 0,
             "ticks": ""
            },
            "type": "mesh3d"
           }
          ],
          "parcoords": [
           {
            "line": {
             "colorbar": {
              "outlinewidth": 0,
              "ticks": ""
             }
            },
            "type": "parcoords"
           }
          ],
          "pie": [
           {
            "automargin": true,
            "type": "pie"
           }
          ],
          "scatter": [
           {
            "marker": {
             "colorbar": {
              "outlinewidth": 0,
              "ticks": ""
             }
            },
            "type": "scatter"
           }
          ],
          "scatter3d": [
           {
            "line": {
             "colorbar": {
              "outlinewidth": 0,
              "ticks": ""
             }
            },
            "marker": {
             "colorbar": {
              "outlinewidth": 0,
              "ticks": ""
             }
            },
            "type": "scatter3d"
           }
          ],
          "scattercarpet": [
           {
            "marker": {
             "colorbar": {
              "outlinewidth": 0,
              "ticks": ""
             }
            },
            "type": "scattercarpet"
           }
          ],
          "scattergeo": [
           {
            "marker": {
             "colorbar": {
              "outlinewidth": 0,
              "ticks": ""
             }
            },
            "type": "scattergeo"
           }
          ],
          "scattergl": [
           {
            "marker": {
             "colorbar": {
              "outlinewidth": 0,
              "ticks": ""
             }
            },
            "type": "scattergl"
           }
          ],
          "scattermapbox": [
           {
            "marker": {
             "colorbar": {
              "outlinewidth": 0,
              "ticks": ""
             }
            },
            "type": "scattermapbox"
           }
          ],
          "scatterpolar": [
           {
            "marker": {
             "colorbar": {
              "outlinewidth": 0,
              "ticks": ""
             }
            },
            "type": "scatterpolar"
           }
          ],
          "scatterpolargl": [
           {
            "marker": {
             "colorbar": {
              "outlinewidth": 0,
              "ticks": ""
             }
            },
            "type": "scatterpolargl"
           }
          ],
          "scatterternary": [
           {
            "marker": {
             "colorbar": {
              "outlinewidth": 0,
              "ticks": ""
             }
            },
            "type": "scatterternary"
           }
          ],
          "surface": [
           {
            "colorbar": {
             "outlinewidth": 0,
             "ticks": ""
            },
            "colorscale": [
             [
              0,
              "#0d0887"
             ],
             [
              0.1111111111111111,
              "#46039f"
             ],
             [
              0.2222222222222222,
              "#7201a8"
             ],
             [
              0.3333333333333333,
              "#9c179e"
             ],
             [
              0.4444444444444444,
              "#bd3786"
             ],
             [
              0.5555555555555556,
              "#d8576b"
             ],
             [
              0.6666666666666666,
              "#ed7953"
             ],
             [
              0.7777777777777778,
              "#fb9f3a"
             ],
             [
              0.8888888888888888,
              "#fdca26"
             ],
             [
              1,
              "#f0f921"
             ]
            ],
            "type": "surface"
           }
          ],
          "table": [
           {
            "cells": {
             "fill": {
              "color": "#EBF0F8"
             },
             "line": {
              "color": "white"
             }
            },
            "header": {
             "fill": {
              "color": "#C8D4E3"
             },
             "line": {
              "color": "white"
             }
            },
            "type": "table"
           }
          ]
         },
         "layout": {
          "annotationdefaults": {
           "arrowcolor": "#2a3f5f",
           "arrowhead": 0,
           "arrowwidth": 1
          },
          "autotypenumbers": "strict",
          "coloraxis": {
           "colorbar": {
            "outlinewidth": 0,
            "ticks": ""
           }
          },
          "colorscale": {
           "diverging": [
            [
             0,
             "#8e0152"
            ],
            [
             0.1,
             "#c51b7d"
            ],
            [
             0.2,
             "#de77ae"
            ],
            [
             0.3,
             "#f1b6da"
            ],
            [
             0.4,
             "#fde0ef"
            ],
            [
             0.5,
             "#f7f7f7"
            ],
            [
             0.6,
             "#e6f5d0"
            ],
            [
             0.7,
             "#b8e186"
            ],
            [
             0.8,
             "#7fbc41"
            ],
            [
             0.9,
             "#4d9221"
            ],
            [
             1,
             "#276419"
            ]
           ],
           "sequential": [
            [
             0,
             "#0d0887"
            ],
            [
             0.1111111111111111,
             "#46039f"
            ],
            [
             0.2222222222222222,
             "#7201a8"
            ],
            [
             0.3333333333333333,
             "#9c179e"
            ],
            [
             0.4444444444444444,
             "#bd3786"
            ],
            [
             0.5555555555555556,
             "#d8576b"
            ],
            [
             0.6666666666666666,
             "#ed7953"
            ],
            [
             0.7777777777777778,
             "#fb9f3a"
            ],
            [
             0.8888888888888888,
             "#fdca26"
            ],
            [
             1,
             "#f0f921"
            ]
           ],
           "sequentialminus": [
            [
             0,
             "#0d0887"
            ],
            [
             0.1111111111111111,
             "#46039f"
            ],
            [
             0.2222222222222222,
             "#7201a8"
            ],
            [
             0.3333333333333333,
             "#9c179e"
            ],
            [
             0.4444444444444444,
             "#bd3786"
            ],
            [
             0.5555555555555556,
             "#d8576b"
            ],
            [
             0.6666666666666666,
             "#ed7953"
            ],
            [
             0.7777777777777778,
             "#fb9f3a"
            ],
            [
             0.8888888888888888,
             "#fdca26"
            ],
            [
             1,
             "#f0f921"
            ]
           ]
          },
          "colorway": [
           "#636efa",
           "#EF553B",
           "#00cc96",
           "#ab63fa",
           "#FFA15A",
           "#19d3f3",
           "#FF6692",
           "#B6E880",
           "#FF97FF",
           "#FECB52"
          ],
          "font": {
           "color": "#2a3f5f"
          },
          "geo": {
           "bgcolor": "white",
           "lakecolor": "white",
           "landcolor": "#E5ECF6",
           "showlakes": true,
           "showland": true,
           "subunitcolor": "white"
          },
          "hoverlabel": {
           "align": "left"
          },
          "hovermode": "closest",
          "mapbox": {
           "style": "light"
          },
          "paper_bgcolor": "white",
          "plot_bgcolor": "#E5ECF6",
          "polar": {
           "angularaxis": {
            "gridcolor": "white",
            "linecolor": "white",
            "ticks": ""
           },
           "bgcolor": "#E5ECF6",
           "radialaxis": {
            "gridcolor": "white",
            "linecolor": "white",
            "ticks": ""
           }
          },
          "scene": {
           "xaxis": {
            "backgroundcolor": "#E5ECF6",
            "gridcolor": "white",
            "gridwidth": 2,
            "linecolor": "white",
            "showbackground": true,
            "ticks": "",
            "zerolinecolor": "white"
           },
           "yaxis": {
            "backgroundcolor": "#E5ECF6",
            "gridcolor": "white",
            "gridwidth": 2,
            "linecolor": "white",
            "showbackground": true,
            "ticks": "",
            "zerolinecolor": "white"
           },
           "zaxis": {
            "backgroundcolor": "#E5ECF6",
            "gridcolor": "white",
            "gridwidth": 2,
            "linecolor": "white",
            "showbackground": true,
            "ticks": "",
            "zerolinecolor": "white"
           }
          },
          "shapedefaults": {
           "line": {
            "color": "#2a3f5f"
           }
          },
          "ternary": {
           "aaxis": {
            "gridcolor": "white",
            "linecolor": "white",
            "ticks": ""
           },
           "baxis": {
            "gridcolor": "white",
            "linecolor": "white",
            "ticks": ""
           },
           "bgcolor": "#E5ECF6",
           "caxis": {
            "gridcolor": "white",
            "linecolor": "white",
            "ticks": ""
           }
          },
          "title": {
           "x": 0.05
          },
          "xaxis": {
           "automargin": true,
           "gridcolor": "white",
           "linecolor": "white",
           "ticks": "",
           "title": {
            "standoff": 15
           },
           "zerolinecolor": "white",
           "zerolinewidth": 2
          },
          "yaxis": {
           "automargin": true,
           "gridcolor": "white",
           "linecolor": "white",
           "ticks": "",
           "title": {
            "standoff": 15
           },
           "zerolinecolor": "white",
           "zerolinewidth": 2
          }
         }
        },
        "width": 512,
        "xaxis": {
         "showgrid": false,
         "showticklabels": false,
         "zeroline": false
        },
        "yaxis": {
         "showgrid": false,
         "showticklabels": false,
         "zeroline": false
        }
       }
      }
     },
     "metadata": {},
     "output_type": "display_data"
    }
   ],
   "source": [
    "mp.colorize(data)\n",
    "fig = mp.plot('plotly', 512, 512, 'mean lens')\n",
    "fig.show()"
   ]
  },
  {
   "cell_type": "code",
   "execution_count": 12,
   "id": "f489f1f3",
   "metadata": {},
   "outputs": [
    {
     "data": {
      "image/png": "[encoded data removed]",
      "text/plain": [
       "<Figure size 512x512 with 2 Axes>"
      ]
     },
     "metadata": {
      "needs_background": "light"
     },
     "output_type": "display_data"
    }
   ],
   "source": [
    "%matplotlib inline\n",
    "mp.plot('matplotlib', 512, 512, 'mean lens')\n",
    "plt.show()"
   ]
  },
  {
   "cell_type": "code",
   "execution_count": null,
   "id": "26ba8077",
   "metadata": {},
   "outputs": [],
   "source": []
  }
 ],
 "metadata": {
  "kernelspec": {
   "display_name": "Python 3 (ipykernel)",
   "language": "python",
   "name": "python3"
  },
  "language_info": {
   "codemirror_mode": {
    "name": "ipython",
    "version": 3
   },
   "file_extension": ".py",
   "mimetype": "text/x-python",
   "name": "python",
   "nbconvert_exporter": "python",
   "pygments_lexer": "ipython3",
   "version": "3.10.4"
  }
 },
 "nbformat": 4,
 "nbformat_minor": 5
}
