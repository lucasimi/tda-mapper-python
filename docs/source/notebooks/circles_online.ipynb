{
 "cells": [
  {
   "cell_type": "markdown",
   "metadata": {},
   "source": [
    "# Example 1: Circles"
   ]
  },
  {
   "cell_type": "markdown",
   "metadata": {},
   "source": [
    "### Load circles dataset"
   ]
  },
  {
   "cell_type": "code",
   "execution_count": null,
   "metadata": {},
   "outputs": [],
   "source": [
    "from matplotlib import pyplot as plt\n",
    "\n",
    "from sklearn.decomposition import PCA\n",
    "from sklearn.datasets import make_circles\n",
    "\n",
    "# We load a labelled dataset of two 2-dimensional circles,\n",
    "# and compute the lens values using PCA on the 2 principal \n",
    "# components.\n",
    "\n",
    "X, y = make_circles(\n",
    "    n_samples=5000,\n",
    "    noise=0.05,\n",
    "    factor=0.3,\n",
    "    random_state=42\n",
    ")\n",
    "lens = PCA(2, random_state=42).fit_transform(X)\n",
    "\n",
    "plt.figure(figsize=(6, 6))\n",
    "plt.scatter(lens[:, 0], lens[:, 1], c=y, cmap='jet', s=4)\n",
    "plt.axis('off')\n",
    "plt.show()"
   ]
  },
  {
   "cell_type": "markdown",
   "metadata": {},
   "source": [
    "### Build Mapper graph"
   ]
  },
  {
   "cell_type": "code",
   "execution_count": null,
   "metadata": {},
   "outputs": [],
   "source": [
    "from sklearn.cluster import DBSCAN\n",
    "\n",
    "from tdamapper.core import MapperAlgorithm\n",
    "from tdamapper.cover import CubicalCover\n",
    "\n",
    "# We run the Mapper algorithm using these settings.\n",
    "# It's common practice to play with settings interactively\n",
    "# before finding those that work best.\n",
    "\n",
    "mapper_graph = MapperAlgorithm(\n",
    "    cover=CubicalCover(\n",
    "        n_intervals=10,\n",
    "        overlap_frac=0.3\n",
    "    ),\n",
    "    clustering=DBSCAN(),\n",
    "    verbose=False\n",
    ").fit_transform(X, lens)"
   ]
  },
  {
   "cell_type": "markdown",
   "metadata": {},
   "source": [
    "### Plot Mapper graph with mean"
   ]
  },
  {
   "cell_type": "code",
   "execution_count": null,
   "metadata": {},
   "outputs": [],
   "source": [
    "import numpy as np\n",
    "\n",
    "from tdamapper.plot import MapperPlot\n",
    "\n",
    "\n",
    "# We create a Mapper plot, that computes and stores the positions\n",
    "# on the nodes in dimensions 2 or 3.\n",
    "\n",
    "mapper_plot = MapperPlot(\n",
    "    mapper_graph,\n",
    "    dim=2,\n",
    "    iterations=60,\n",
    "    seed=42\n",
    ")\n",
    "\n",
    "# Then we obtain an interactive figure where each node is colored\n",
    "# according to the most frequent digit contained in it.\n",
    "\n",
    "fig = mapper_plot.plot_plotly(\n",
    "    colors=y,\n",
    "    cmap='jet',\n",
    "    agg=np.nanmean,\n",
    "    width=600,\n",
    "    height=600\n",
    ")\n",
    "\n",
    "fig.show(\n",
    "    renderer='notebook_connected',\n",
    "    config={'scrollZoom': True}\n",
    ")"
   ]
  },
  {
   "cell_type": "code",
   "execution_count": null,
   "metadata": {},
   "outputs": [],
   "source": [
    "# We create a new figure where each node is colored according \n",
    "# to the standard deviation of the class of the points contained\n",
    "# in the node. The positions are expected to be the same as in \n",
    "# the previous plot, since we pass the same MapperPlot object.\n",
    "\n",
    "fig = mapper_plot.plot_plotly(\n",
    "    colors=y,\n",
    "    cmap='viridis',\n",
    "    agg=np.nanstd,\n",
    "    width=600,\n",
    "    height=600\n",
    ")                  \n",
    "    \n",
    "fig.show(\n",
    "    renderer='notebook_connected',\n",
    "    config={'scrollZoom': True}\n",
    ")"
   ]
  }
 ],
 "metadata": {
  "kernelspec": {
   "display_name": "default",
   "language": "python",
   "name": "python3"
  },
  "language_info": {
   "codemirror_mode": {
    "name": "ipython",
    "version": 3
   },
   "file_extension": ".py",
   "mimetype": "text/x-python",
   "name": "python",
   "nbconvert_exporter": "python",
   "pygments_lexer": "ipython3",
   "version": "3.11.6"
  }
 },
 "nbformat": 4,
 "nbformat_minor": 2
}
