{
 "cells": [
  {
   "cell_type": "markdown",
   "id": "a3793c72",
   "metadata": {},
   "source": [
    "# Example 2: Digits"
   ]
  },
  {
   "cell_type": "markdown",
   "id": "e4d471af",
   "metadata": {},
   "source": [
    "### Load digits dataset"
   ]
  },
  {
   "cell_type": "code",
   "execution_count": null,
   "id": "8cf55ffb",
   "metadata": {},
   "outputs": [],
   "source": [
    "from sklearn.datasets import load_digits\n",
    "from sklearn.decomposition import PCA\n",
    "\n",
    "# We load a labelled dataset of 8x8 greyscale images,\n",
    "# and compute the lens values using PCA on the first 8\n",
    "# principal components.\n",
    "\n",
    "X, y = load_digits(return_X_y=True)\n",
    "lens = PCA(8, random_state=42).fit_transform(X)     "
   ]
  },
  {
   "cell_type": "markdown",
   "id": "3d4b243a",
   "metadata": {},
   "source": [
    "### Build Mapper graph"
   ]
  },
  {
   "cell_type": "code",
   "execution_count": null,
   "id": "cd7eef4e",
   "metadata": {},
   "outputs": [],
   "source": [
    "from sklearn.cluster import DBSCAN\n",
    "\n",
    "from tdamapper.core import MapperAlgorithm\n",
    "from tdamapper.cover import CubicalCover, BallCover\n",
    "\n",
    "# We run the Mapper algorithm using these settings.\n",
    "# It's common practice to play with settings interactively\n",
    "# before finding those that work best.\n",
    "\n",
    "mapper_graph = MapperAlgorithm(\n",
    "    cover=CubicalCover(\n",
    "        n_intervals=6,\n",
    "        overlap_frac=0.45\n",
    "    ),\n",
    "    clustering=DBSCAN(\n",
    "        eps=50.0,\n",
    "        min_samples=4\n",
    "    ),\n",
    "    verbose=False\n",
    ").fit_transform(X, lens)"
   ]
  },
  {
   "cell_type": "markdown",
   "id": "fbe63b82",
   "metadata": {},
   "source": [
    "### Plot Mapper graph showing the most frequent digits"
   ]
  },
  {
   "cell_type": "code",
   "execution_count": null,
   "id": "9f323878",
   "metadata": {},
   "outputs": [],
   "source": [
    "import numpy as np\n",
    "\n",
    "from tdamapper.plot import MapperPlot\n",
    "\n",
    "\n",
    "def mode(X):\n",
    "    values, counts = np.unique(X, return_counts=True)\n",
    "    index = np.argmax(counts)\n",
    "    return values[index]\n",
    "\n",
    "\n",
    "# We create a Mapper plot, that computes and stores the positions\n",
    "# on the nodes in dimensions 2 or 3.\n",
    "\n",
    "mapper_plot = MapperPlot(\n",
    "    mapper_graph,\n",
    "    dim=2,\n",
    "    iterations=400,\n",
    "    seed=42\n",
    ")\n",
    "\n",
    "# Then we obtain an interactive figure where each node is colored\n",
    "# according to the most frequent digit contained in it.\n",
    "\n",
    "fig = mapper_plot.plot_plotly(\n",
    "    colors=y,\n",
    "    cmap='jet',\n",
    "    agg=mode,\n",
    "    title='most frequent digit',\n",
    "    width=600,\n",
    "    height=600\n",
    ")\n",
    "\n",
    "fig.show(\n",
    "    renderer='notebook_connected',\n",
    "    config={'scrollZoom': True}\n",
    ")"
   ]
  },
  {
   "cell_type": "markdown",
   "id": "5278f9e5",
   "metadata": {},
   "source": [
    "### Plot Mapper graph showing the mean of digits"
   ]
  },
  {
   "cell_type": "code",
   "execution_count": null,
   "id": "a20d99cf",
   "metadata": {},
   "outputs": [],
   "source": [
    "# We create a new figure where each node is colored according \n",
    "# to the mean value of the digits contained in the node.\n",
    "# The positions are expected to be the same as in the previous\n",
    "# plot, since we pass the same MapperPlot object.\n",
    "\n",
    "fig = mapper_plot.plot_plotly(\n",
    "    colors=y,\n",
    "    cmap='jet',                      \n",
    "    agg=np.nanmean,\n",
    "    title='mean digit',\n",
    "    width=600,\n",
    "    height=600,\n",
    ")\n",
    "\n",
    "fig.show(\n",
    "    renderer='notebook_connected',\n",
    "    config={'scrollZoom': True}\n",
    ")"
   ]
  },
  {
   "cell_type": "markdown",
   "id": "7ccd0485",
   "metadata": {},
   "source": [
    "### Plot Mapper graph showing the standard deviation of digits"
   ]
  },
  {
   "cell_type": "code",
   "execution_count": null,
   "id": "ee374256",
   "metadata": {},
   "outputs": [],
   "source": [
    "# We create a new figure where each node is colored according \n",
    "# to the standard deviation of the digits contained in the node.\n",
    "# Also in this case the positions are expected to be the same as\n",
    "# in the previous plot.\n",
    "\n",
    "fig = mapper_plot.plot_plotly(\n",
    "    colors=y,                        \n",
    "    cmap='viridis',\n",
    "    agg=np.nanstd,\n",
    "    title='std of digit',\n",
    "    width=600,\n",
    "    height=600\n",
    ")\n",
    "\n",
    "fig.show(\n",
    "    renderer='notebook_connected',\n",
    "    config={'scrollZoom': True}\n",
    ")"
   ]
  }
 ],
 "metadata": {
  "kernelspec": {
   "display_name": "Python 3 (ipykernel)",
   "language": "python",
   "name": "python3"
  },
  "language_info": {
   "codemirror_mode": {
    "name": "ipython",
    "version": 3
   },
   "file_extension": ".py",
   "mimetype": "text/x-python",
   "name": "python",
   "nbconvert_exporter": "python",
   "pygments_lexer": "ipython3",
   "version": "3.11.6"
  }
 },
 "nbformat": 4,
 "nbformat_minor": 5
}
